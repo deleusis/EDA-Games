{
  "cells": [
    {
      "cell_type": "markdown",
      "metadata": {
        "id": "6wQBbVvwCfR3"
      },
      "source": [
        "# Сборный проект 1"
      ]
    },
    {
      "cell_type": "markdown",
      "metadata": {
        "id": "qcl9RvumCuVf"
      },
      "source": [
        "Вы работаете в интернет-магазине «Стримчик», который продаёт по всему миру компьютерные игры. Из открытых источников доступны исторические данные о продажах игр, оценки пользователей и экспертов, жанры и платформы (например, Xbox или PlayStation). Вам нужно выявить определяющие успешность игры закономерности. Это позволит сделать ставку на потенциально популярный продукт и спланировать рекламные кампании.\n",
        "Перед вами данные до 2016 года. Представим, что сейчас декабрь 2016 г., и вы планируете кампанию на 2017-й. Нужно отработать принцип работы с данными. Неважно, прогнозируете ли вы продажи на 2017 год по данным 2016-го или же 2027-й — по данным 2026 года.\n",
        "В наборе данных попадается аббревиатура ESRB (Entertainment Software Rating Board) — это ассоциация, определяющая возрастной рейтинг компьютерных игр. ESRB оценивает игровой контент и присваивает ему подходящую возрастную категорию, например, «Для взрослых», «Для детей младшего возраста» или «Для подростков».\n"
      ]
    },
    {
      "cell_type": "markdown",
      "metadata": {
        "id": "T0qODsJkC1Lo"
      },
      "source": [
        "## 1. Обзор данных"
      ]
    },
    {
      "cell_type": "markdown",
      "metadata": {
        "id": "y51sbrnXDT7Q"
      },
      "source": [
        "Для начала изучим имеющиеся у нас данные"
      ]
    },
    {
      "cell_type": "code",
      "execution_count": null,
      "metadata": {
        "id": "mu-axGzQCvbI"
      },
      "outputs": [],
      "source": [
        "#импортируем библиотеки\n",
        "import pandas as pd\n",
        "from matplotlib import pyplot as plt\n",
        "import math\n",
        "import numpy as np\n"
      ]
    },
    {
      "cell_type": "code",
      "execution_count": null,
      "metadata": {
        "id": "w1Q4x8HtDv6c"
      },
      "outputs": [],
      "source": [
        "#from google.colab import drive\n",
        "#drive.mount('/content/drive')"
      ]
    },
    {
      "cell_type": "code",
      "execution_count": null,
      "metadata": {
        "id": "LzN2a95cDdTs"
      },
      "outputs": [],
      "source": [
        "df = pd.read_csv('/datasets/games.csv')"
      ]
    },
    {
      "cell_type": "code",
      "execution_count": null,
      "metadata": {
        "colab": {
          "base_uri": "https://localhost:8080/",
          "height": 386
        },
        "id": "I0V0eBMkEPVY",
        "outputId": "88aecc2b-d2b1-48f8-a090-f273f7a3139a"
      },
      "outputs": [
        {
          "data": {
            "text/html": [
              "<div>\n",
              "<style scoped>\n",
              "    .dataframe tbody tr th:only-of-type {\n",
              "        vertical-align: middle;\n",
              "    }\n",
              "\n",
              "    .dataframe tbody tr th {\n",
              "        vertical-align: top;\n",
              "    }\n",
              "\n",
              "    .dataframe thead th {\n",
              "        text-align: right;\n",
              "    }\n",
              "</style>\n",
              "<table border=\"1\" class=\"dataframe\">\n",
              "  <thead>\n",
              "    <tr style=\"text-align: right;\">\n",
              "      <th></th>\n",
              "      <th>Name</th>\n",
              "      <th>Platform</th>\n",
              "      <th>Year_of_Release</th>\n",
              "      <th>Genre</th>\n",
              "      <th>NA_sales</th>\n",
              "      <th>EU_sales</th>\n",
              "      <th>JP_sales</th>\n",
              "      <th>Other_sales</th>\n",
              "      <th>Critic_Score</th>\n",
              "      <th>User_Score</th>\n",
              "      <th>Rating</th>\n",
              "    </tr>\n",
              "  </thead>\n",
              "  <tbody>\n",
              "    <tr>\n",
              "      <th>0</th>\n",
              "      <td>Wii Sports</td>\n",
              "      <td>Wii</td>\n",
              "      <td>2006.0</td>\n",
              "      <td>Sports</td>\n",
              "      <td>41.36</td>\n",
              "      <td>28.96</td>\n",
              "      <td>3.77</td>\n",
              "      <td>8.45</td>\n",
              "      <td>76.0</td>\n",
              "      <td>8</td>\n",
              "      <td>E</td>\n",
              "    </tr>\n",
              "    <tr>\n",
              "      <th>1</th>\n",
              "      <td>Super Mario Bros.</td>\n",
              "      <td>NES</td>\n",
              "      <td>1985.0</td>\n",
              "      <td>Platform</td>\n",
              "      <td>29.08</td>\n",
              "      <td>3.58</td>\n",
              "      <td>6.81</td>\n",
              "      <td>0.77</td>\n",
              "      <td>NaN</td>\n",
              "      <td>NaN</td>\n",
              "      <td>NaN</td>\n",
              "    </tr>\n",
              "    <tr>\n",
              "      <th>2</th>\n",
              "      <td>Mario Kart Wii</td>\n",
              "      <td>Wii</td>\n",
              "      <td>2008.0</td>\n",
              "      <td>Racing</td>\n",
              "      <td>15.68</td>\n",
              "      <td>12.76</td>\n",
              "      <td>3.79</td>\n",
              "      <td>3.29</td>\n",
              "      <td>82.0</td>\n",
              "      <td>8.3</td>\n",
              "      <td>E</td>\n",
              "    </tr>\n",
              "    <tr>\n",
              "      <th>3</th>\n",
              "      <td>Wii Sports Resort</td>\n",
              "      <td>Wii</td>\n",
              "      <td>2009.0</td>\n",
              "      <td>Sports</td>\n",
              "      <td>15.61</td>\n",
              "      <td>10.93</td>\n",
              "      <td>3.28</td>\n",
              "      <td>2.95</td>\n",
              "      <td>80.0</td>\n",
              "      <td>8</td>\n",
              "      <td>E</td>\n",
              "    </tr>\n",
              "    <tr>\n",
              "      <th>4</th>\n",
              "      <td>Pokemon Red/Pokemon Blue</td>\n",
              "      <td>GB</td>\n",
              "      <td>1996.0</td>\n",
              "      <td>Role-Playing</td>\n",
              "      <td>11.27</td>\n",
              "      <td>8.89</td>\n",
              "      <td>10.22</td>\n",
              "      <td>1.00</td>\n",
              "      <td>NaN</td>\n",
              "      <td>NaN</td>\n",
              "      <td>NaN</td>\n",
              "    </tr>\n",
              "    <tr>\n",
              "      <th>5</th>\n",
              "      <td>Tetris</td>\n",
              "      <td>GB</td>\n",
              "      <td>1989.0</td>\n",
              "      <td>Puzzle</td>\n",
              "      <td>23.20</td>\n",
              "      <td>2.26</td>\n",
              "      <td>4.22</td>\n",
              "      <td>0.58</td>\n",
              "      <td>NaN</td>\n",
              "      <td>NaN</td>\n",
              "      <td>NaN</td>\n",
              "    </tr>\n",
              "    <tr>\n",
              "      <th>6</th>\n",
              "      <td>New Super Mario Bros.</td>\n",
              "      <td>DS</td>\n",
              "      <td>2006.0</td>\n",
              "      <td>Platform</td>\n",
              "      <td>11.28</td>\n",
              "      <td>9.14</td>\n",
              "      <td>6.50</td>\n",
              "      <td>2.88</td>\n",
              "      <td>89.0</td>\n",
              "      <td>8.5</td>\n",
              "      <td>E</td>\n",
              "    </tr>\n",
              "    <tr>\n",
              "      <th>7</th>\n",
              "      <td>Wii Play</td>\n",
              "      <td>Wii</td>\n",
              "      <td>2006.0</td>\n",
              "      <td>Misc</td>\n",
              "      <td>13.96</td>\n",
              "      <td>9.18</td>\n",
              "      <td>2.93</td>\n",
              "      <td>2.84</td>\n",
              "      <td>58.0</td>\n",
              "      <td>6.6</td>\n",
              "      <td>E</td>\n",
              "    </tr>\n",
              "    <tr>\n",
              "      <th>8</th>\n",
              "      <td>New Super Mario Bros. Wii</td>\n",
              "      <td>Wii</td>\n",
              "      <td>2009.0</td>\n",
              "      <td>Platform</td>\n",
              "      <td>14.44</td>\n",
              "      <td>6.94</td>\n",
              "      <td>4.70</td>\n",
              "      <td>2.24</td>\n",
              "      <td>87.0</td>\n",
              "      <td>8.4</td>\n",
              "      <td>E</td>\n",
              "    </tr>\n",
              "    <tr>\n",
              "      <th>9</th>\n",
              "      <td>Duck Hunt</td>\n",
              "      <td>NES</td>\n",
              "      <td>1984.0</td>\n",
              "      <td>Shooter</td>\n",
              "      <td>26.93</td>\n",
              "      <td>0.63</td>\n",
              "      <td>0.28</td>\n",
              "      <td>0.47</td>\n",
              "      <td>NaN</td>\n",
              "      <td>NaN</td>\n",
              "      <td>NaN</td>\n",
              "    </tr>\n",
              "  </tbody>\n",
              "</table>\n",
              "</div>"
            ],
            "text/plain": [
              "                        Name Platform  Year_of_Release         Genre  \\\n",
              "0                 Wii Sports      Wii           2006.0        Sports   \n",
              "1          Super Mario Bros.      NES           1985.0      Platform   \n",
              "2             Mario Kart Wii      Wii           2008.0        Racing   \n",
              "3          Wii Sports Resort      Wii           2009.0        Sports   \n",
              "4   Pokemon Red/Pokemon Blue       GB           1996.0  Role-Playing   \n",
              "5                     Tetris       GB           1989.0        Puzzle   \n",
              "6      New Super Mario Bros.       DS           2006.0      Platform   \n",
              "7                   Wii Play      Wii           2006.0          Misc   \n",
              "8  New Super Mario Bros. Wii      Wii           2009.0      Platform   \n",
              "9                  Duck Hunt      NES           1984.0       Shooter   \n",
              "\n",
              "   NA_sales  EU_sales  JP_sales  Other_sales  Critic_Score User_Score Rating  \n",
              "0     41.36     28.96      3.77         8.45          76.0          8      E  \n",
              "1     29.08      3.58      6.81         0.77           NaN        NaN    NaN  \n",
              "2     15.68     12.76      3.79         3.29          82.0        8.3      E  \n",
              "3     15.61     10.93      3.28         2.95          80.0          8      E  \n",
              "4     11.27      8.89     10.22         1.00           NaN        NaN    NaN  \n",
              "5     23.20      2.26      4.22         0.58           NaN        NaN    NaN  \n",
              "6     11.28      9.14      6.50         2.88          89.0        8.5      E  \n",
              "7     13.96      9.18      2.93         2.84          58.0        6.6      E  \n",
              "8     14.44      6.94      4.70         2.24          87.0        8.4      E  \n",
              "9     26.93      0.63      0.28         0.47           NaN        NaN    NaN  "
            ]
          },
          "execution_count": 4,
          "metadata": {},
          "output_type": "execute_result"
        }
      ],
      "source": [
        "df.head(10)#выведем первые 10 строк на экран"
      ]
    },
    {
      "cell_type": "code",
      "execution_count": null,
      "metadata": {
        "colab": {
          "base_uri": "https://localhost:8080/"
        },
        "id": "FsTDZ-xAERSv",
        "outputId": "3e9f9353-5f6b-4b80-efae-8b0ee99dcfb6"
      },
      "outputs": [
        {
          "name": "stdout",
          "output_type": "stream",
          "text": [
            "<class 'pandas.core.frame.DataFrame'>\n",
            "RangeIndex: 16715 entries, 0 to 16714\n",
            "Data columns (total 11 columns):\n",
            " #   Column           Non-Null Count  Dtype  \n",
            "---  ------           --------------  -----  \n",
            " 0   Name             16713 non-null  object \n",
            " 1   Platform         16715 non-null  object \n",
            " 2   Year_of_Release  16446 non-null  float64\n",
            " 3   Genre            16713 non-null  object \n",
            " 4   NA_sales         16715 non-null  float64\n",
            " 5   EU_sales         16715 non-null  float64\n",
            " 6   JP_sales         16715 non-null  float64\n",
            " 7   Other_sales      16715 non-null  float64\n",
            " 8   Critic_Score     8137 non-null   float64\n",
            " 9   User_Score       10014 non-null  object \n",
            " 10  Rating           9949 non-null   object \n",
            "dtypes: float64(6), object(5)\n",
            "memory usage: 1.4+ MB\n"
          ]
        }
      ],
      "source": [
        "df.info()#посмотрим общую информацию по таблице"
      ]
    },
    {
      "cell_type": "code",
      "execution_count": null,
      "metadata": {
        "colab": {
          "base_uri": "https://localhost:8080/"
        },
        "id": "uOLCFKvTOKlW",
        "outputId": "d8b36e7e-9a37-4aa0-b5ce-2d534526151e"
      },
      "outputs": [
        {
          "data": {
            "text/plain": [
              "Name                  2\n",
              "Platform              0\n",
              "Year_of_Release     269\n",
              "Genre                 2\n",
              "NA_sales              0\n",
              "EU_sales              0\n",
              "JP_sales              0\n",
              "Other_sales           0\n",
              "Critic_Score       8578\n",
              "User_Score         6701\n",
              "Rating             6766\n",
              "dtype: int64"
            ]
          },
          "execution_count": 6,
          "metadata": {},
          "output_type": "execute_result"
        }
      ],
      "source": [
        "df.isna().sum()#найдем пропуски"
      ]
    },
    {
      "cell_type": "code",
      "execution_count": null,
      "metadata": {
        "colab": {
          "base_uri": "https://localhost:8080/"
        },
        "id": "3ZiBw2-0OZ-U",
        "outputId": "c406a0cb-1351-4ce5-e09c-21c5295cf1b4"
      },
      "outputs": [
        {
          "data": {
            "text/plain": [
              "NaN    6701\n",
              "tbd    2424\n",
              "7.8     324\n",
              "8       290\n",
              "8.2     282\n",
              "       ... \n",
              "9.6       2\n",
              "0.9       2\n",
              "0.3       2\n",
              "0         1\n",
              "9.7       1\n",
              "Name: User_Score, Length: 97, dtype: int64"
            ]
          },
          "execution_count": 7,
          "metadata": {},
          "output_type": "execute_result"
        }
      ],
      "source": [
        "df['User_Score'].value_counts(dropna=False)#найдем уникальные значения столбца user_score"
      ]
    },
    {
      "cell_type": "markdown",
      "metadata": {
        "id": "Uauf_cEB74Ws"
      },
      "source": [
        "<div class=\"alert alert-warning\">\n",
        "<b>Комментарий 👉</b>\n",
        "\n",
        "value_counts по умолчанию не \"считает\" NaN'ы. Попробуй передать в value_counts() параметр dropna=False ... мне кажется будет чуть нагляднее и более верным будет понимание что за значения в колонке находятся.</div>\n"
      ]
    },
    {
      "cell_type": "code",
      "execution_count": null,
      "metadata": {
        "colab": {
          "base_uri": "https://localhost:8080/"
        },
        "id": "FiggxmwtPNj8",
        "outputId": "b4a166b2-a2fc-47c1-8b42-90842acde49f"
      },
      "outputs": [
        {
          "data": {
            "text/plain": [
              "0"
            ]
          },
          "execution_count": 8,
          "metadata": {},
          "output_type": "execute_result"
        }
      ],
      "source": [
        "df.duplicated().sum()#проверим на дубликаты. их нет"
      ]
    },
    {
      "cell_type": "markdown",
      "metadata": {
        "id": "KGmC4ZF174Wu"
      },
      "source": [
        "<div class=\"alert alert-warning\">\n",
        "<b>Предложение 👉</b>\n",
        "\n",
        "При анализе дубликатов полезно использовать параметр subset. В нашем примере можно попробовать поискать дубликаты для пары \"Имя - Консоль\".</div>\n"
      ]
    },
    {
      "cell_type": "markdown",
      "metadata": {
        "id": "Ku9VjPhOFHni"
      },
      "source": [
        "### Вывод 1."
      ]
    },
    {
      "cell_type": "markdown",
      "metadata": {
        "id": "IZFmuZZpFL-S"
      },
      "source": [
        "Мы получили таблицу, в которой 11 столбцов и 16 714 строк. В данных есть пропуски, нарушения стиля в названиях столбцов, неверные типы данных, странное обозначение tbd в User_Score. Займемся предобработкой данных."
      ]
    },
    {
      "cell_type": "markdown",
      "metadata": {
        "id": "hJHOOWAbSiMP"
      },
      "source": [
        "## 2. Предобработка данных"
      ]
    },
    {
      "cell_type": "markdown",
      "metadata": {
        "id": "4pye9Xf6Sq9U"
      },
      "source": [
        "Для начала переименуем названия столбцов"
      ]
    },
    {
      "cell_type": "code",
      "execution_count": null,
      "metadata": {
        "colab": {
          "base_uri": "https://localhost:8080/"
        },
        "id": "_85fL14hEu6E",
        "outputId": "bf0ff884-f04a-4aaf-8267-53445d5dc92f"
      },
      "outputs": [
        {
          "data": {
            "text/plain": [
              "Index(['Name', 'Platform', 'Year_of_Release', 'Genre', 'NA_sales', 'EU_sales',\n",
              "       'JP_sales', 'Other_sales', 'Critic_Score', 'User_Score', 'Rating'],\n",
              "      dtype='object')"
            ]
          },
          "execution_count": 9,
          "metadata": {},
          "output_type": "execute_result"
        }
      ],
      "source": [
        "df.columns#выведем все названия столбцов"
      ]
    },
    {
      "cell_type": "code",
      "execution_count": null,
      "metadata": {
        "id": "D0sZSy6zUqJZ"
      },
      "outputs": [],
      "source": [
        "#переведем все названия столбцов в нижный регистр\n",
        "df.columns = df.columns.str.lower()"
      ]
    },
    {
      "cell_type": "code",
      "execution_count": null,
      "metadata": {
        "colab": {
          "base_uri": "https://localhost:8080/"
        },
        "id": "DiBx7hmCUsfj",
        "outputId": "17735916-1de3-48f4-d373-299cb43e0f75"
      },
      "outputs": [
        {
          "data": {
            "text/plain": [
              "Index(['name', 'platform', 'year_of_release', 'genre', 'na_sales', 'eu_sales',\n",
              "       'jp_sales', 'other_sales', 'critic_score', 'user_score', 'rating'],\n",
              "      dtype='object')"
            ]
          },
          "execution_count": 11,
          "metadata": {},
          "output_type": "execute_result"
        }
      ],
      "source": [
        "df.columns"
      ]
    },
    {
      "cell_type": "code",
      "execution_count": null,
      "metadata": {
        "id": "n1FeouDXSxZP"
      },
      "outputs": [],
      "source": [
        "#df.columns = map(str.lower, df.columns)\n",
        "#df"
      ]
    },
    {
      "cell_type": "markdown",
      "metadata": {
        "id": "V-d2pp8_r5en"
      },
      "source": [
        "найдем долю пропусков в столбце \"год выпуска\""
      ]
    },
    {
      "cell_type": "code",
      "execution_count": null,
      "metadata": {
        "colab": {
          "base_uri": "https://localhost:8080/"
        },
        "id": "0xNt1vJFULM7",
        "outputId": "5701b121-711a-411e-8e47-5fcc95620d8a"
      },
      "outputs": [
        {
          "name": "stdout",
          "output_type": "stream",
          "text": [
            "Доля пропусков: 1.61%\n"
          ]
        }
      ],
      "source": [
        "print('Доля пропусков: {:.2%}'.format(df['year_of_release'].isna().mean()))"
      ]
    },
    {
      "cell_type": "markdown",
      "metadata": {
        "id": "aRjx8x7CvRQ4"
      },
      "source": [
        "Поскольку для исследовательского анализа нам нужны будут данные по годам, строки без года неинформативны, поэтому удалим их. Названия игр и жанры тоже важны для нас, поэтому удалим пропуски и в этих столбцах, их всего по 2 в каждом."
      ]
    },
    {
      "cell_type": "code",
      "execution_count": null,
      "metadata": {
        "colab": {
          "base_uri": "https://localhost:8080/"
        },
        "id": "uFsWrwqFwgQS",
        "outputId": "f28e8f0e-b212-4d1f-c1bb-06fde00403a6"
      },
      "outputs": [
        {
          "data": {
            "text/plain": [
              "name                  0\n",
              "platform              0\n",
              "year_of_release       0\n",
              "genre                 0\n",
              "na_sales              0\n",
              "eu_sales              0\n",
              "jp_sales              0\n",
              "other_sales           0\n",
              "critic_score       8461\n",
              "user_score         6605\n",
              "rating             6676\n",
              "dtype: int64"
            ]
          },
          "execution_count": 14,
          "metadata": {},
          "output_type": "execute_result"
        }
      ],
      "source": [
        "df.dropna(subset = ['year_of_release', 'genre', 'name'], inplace=True)\n",
        "df.isna().sum()"
      ]
    },
    {
      "cell_type": "markdown",
      "metadata": {
        "id": "trkbzqvH74W2"
      },
      "source": [
        "<div class=\"alert alert-warning\">\n",
        "<b>Комментарий 👉</b>\n",
        "\n",
        "Да, всего 2 записи (из 16 тысяч) с пропусками в жанрах и названиях (плюс в этих же записях нет ни оценок пользователей, ни оценок критиков, ни рейтингов) и 269 записей (менее 2% из 16+ тысяч) с пропусками в годах выпуска. Можно удалять даже не раздумывая …\n",
        "\n",
        "Хотя конечно, единого сценария нет на самом деле. С одной стороны - да, говорят, что \"данных много не бывает\", удалять записи из-за пропусков, когда датасет измеряется сотнями-тысячами записей ой как не хочется.\n",
        "\n",
        "С другой стороны, если запись не спасти, если в ней несколько полей не заполнено или не заполнены ключевые поля, и ты чувствуешь, что заполнение их медианами/средними приведёт к смещению статистик - надо удалять. Да, можно поставить \"заглушку\", но тогда надо отдавать отчёт, что во всем последующем коде про эту \"заглушку\" помнить придётся. Т.е. перед построением всех графиков, гистограмм заглушку надо будет удалить. Перед расчетом корреляций - заглушку надо будет удалить. Перед проверкой гипотез заглушку надо будет удалить.\n",
        "\n",
        "Я бы так определил способ решения такой задачи: если записи с пропусками в ключевых для моего анализа полях составляют 1-3-5-до 10% строк, то я бы их из оригинального датафрейма вырезал (но сохранил бы в некий df, к которому при необходимости мог бы обратиться).\n",
        "\n",
        "А вообще, в таких случаях, когда нужно решить - заполнять пропуски или удалять строки с ними из df - всегда ищи эксперта в предметной области и советуйся с ним. Как правило это человек из бизнеса, который значит суть бизнес-процесса и вот именно он даст тебе точный и аргументированный совет - что в данной, конкретной задаче делать с \"битыми\" полями в строках датафрейма.</div>\n"
      ]
    },
    {
      "cell_type": "markdown",
      "metadata": {
        "id": "5p-gpx4e74W3"
      },
      "source": [
        "<div class=\"alert alert-warning\">\n",
        "<b>Комментарий 👉</b>\n",
        "\n",
        "Перед удалением, операцией по сути деструктивной, я бы рекомендовал посмотреть на записи с пропусками в соответствующих колонках, по отдельности. 2 строки с пропусками в 'name' (из 16+ тысяч) - это капля в море, можно удалить наверное и сразу ... 269 записей с пропусками в годе выпуска тоже вроде немного, но ты учитывай тот факт, что все задачи в это проекте так или иначе связаны как раз с годом выпуска ... В общем лишний взгляд на данные лишним не будет.</div>\n"
      ]
    },
    {
      "cell_type": "markdown",
      "metadata": {
        "id": "sxpulSR974W4"
      },
      "source": [
        "<div class=\"alert alert-warning\">\n",
        "<b>Комментарий 👉</b>\n",
        "\n",
        "И ещё небольшой, но жизненный совет: **перед** и **сразу после** удаления строк (и для столбцов тоже будет верно) примени метод .shape к датафрейму. В этом случае наглядно будет видно сколько строк/столбцов было удалено. В некоторых ситуациях может быть ошибка в коде из-за которой удаляется больше чем ожидалось. На этот способ поможет тебе такую проблему сразу вычислить.</div>\n"
      ]
    },
    {
      "cell_type": "markdown",
      "metadata": {
        "id": "IjqiK9qLR5eV"
      },
      "source": [
        "Переведем столбец \"год выпуска\" в целочисленный тип."
      ]
    },
    {
      "cell_type": "code",
      "execution_count": null,
      "metadata": {
        "id": "qN3ojjqkR4cG"
      },
      "outputs": [],
      "source": [
        "df['year_of_release'] = df['year_of_release'].astype(int)"
      ]
    },
    {
      "cell_type": "markdown",
      "metadata": {
        "id": "AcT9FgOO0TD2"
      },
      "source": [
        "Найдем долю пропусков в critic_score, user_score, rating"
      ]
    },
    {
      "cell_type": "code",
      "execution_count": null,
      "metadata": {
        "colab": {
          "base_uri": "https://localhost:8080/"
        },
        "id": "lfpohz53xXmb",
        "outputId": "efc27ee1-022b-469d-e5ad-b4d992a658ef"
      },
      "outputs": [
        {
          "name": "stdout",
          "output_type": "stream",
          "text": [
            "Доля пропусков в critic_score: 51.45%\n"
          ]
        }
      ],
      "source": [
        "print('Доля пропусков в critic_score: {:.2%}'.format(df['critic_score'].isna().mean()))"
      ]
    },
    {
      "cell_type": "markdown",
      "metadata": {
        "id": "SObTV4Zv74W_"
      },
      "source": [
        "<div class=\"alert alert-success\">\n",
        "<b>ОТЛИЧНО! 👍</b>\n",
        "\n",
        "Это хорошо! \"Отображение\" пропусков в процентах воспринимается проще и нагляднее, чем в абсолютных единицах.</div>\n"
      ]
    },
    {
      "cell_type": "markdown",
      "metadata": {
        "id": "ENsKvMP_TDyY"
      },
      "source": [
        "Пропусков достаточно много. Заменять их медианой -- значить исказить данные. Заполним их значением \"-1\", а затем будем строить графики по срезам с положительными значениями. Также переведем тип данных в целочисленный, поскольку нигде нет значений после запятой."
      ]
    },
    {
      "cell_type": "code",
      "execution_count": null,
      "metadata": {
        "id": "nLANnxs5Sz_P"
      },
      "outputs": [],
      "source": [
        "df['critic_score'] = df['critic_score'].fillna(-1).astype(int)"
      ]
    },
    {
      "cell_type": "code",
      "execution_count": null,
      "metadata": {
        "colab": {
          "base_uri": "https://localhost:8080/"
        },
        "id": "Yc52K6y_0eyv",
        "outputId": "9b53b88e-d1d2-4cfd-87e7-6e48d5d07473"
      },
      "outputs": [
        {
          "name": "stdout",
          "output_type": "stream",
          "text": [
            "Доля пропусков в user_score: 40.17%\n"
          ]
        }
      ],
      "source": [
        "print('Доля пропусков в user_score: {:.2%}'.format(df['user_score'].isna().mean()))"
      ]
    },
    {
      "cell_type": "markdown",
      "metadata": {
        "id": "vAr-KhSGUZNw"
      },
      "source": [
        "Здесь тоже много пропусков. Поступим по аналогии с critic_score и заполним пропуски на \"-1\". Как мы видели в первом разделе, здесь много значений tbd, что значит \"to be determined\". Вряд ли эти значения когда-то будут определены, поэтому будем относиться к ним как к пропускам и тоже заменим на \"-1\"."
      ]
    },
    {
      "cell_type": "code",
      "execution_count": null,
      "metadata": {
        "id": "ePI8nHQGVKTg"
      },
      "outputs": [],
      "source": [
        "df['user_score'] = df['user_score'].fillna(-1)"
      ]
    },
    {
      "cell_type": "code",
      "execution_count": null,
      "metadata": {
        "id": "gwNzXCgsVXB0"
      },
      "outputs": [],
      "source": [
        "df = df.replace({'user_score':{'tbd':-1}})"
      ]
    },
    {
      "cell_type": "markdown",
      "metadata": {
        "id": "06WiyRMb74XE"
      },
      "source": [
        "<div class=\"alert alert-warning\">\n",
        "<b>Комментарий 👉</b>\n",
        "\n",
        "Один из ключевых моментов этого проекта: ты пропуски в 2 столбцах с оценками ('critic_score' и 'user_score') заполняешь как -1. Это ОК здесь. Но дальше, когда мы будем строить корреляции, а также возможно оценивать платформы в зависимости от оценок (пользователей / экспертов) - надо будет вспомнить этот момент (как ты собственно выше и говоришь, что \"будем строить графики по срезам с положительными значениями\") ... Если не вспомнишь и не обработаешь, то дальше скорее всего будет ошибка в результатах анализа, в графиках и в твоих выводах.\n",
        "\n",
        "Отметь этот момент - возможно нам придется вернуться сюда.</div>\n"
      ]
    },
    {
      "cell_type": "code",
      "execution_count": null,
      "metadata": {
        "id": "0TyV_HSCBEyx"
      },
      "outputs": [],
      "source": [
        "#переведем тип данных из object в float\n",
        "df['user_score'] = df['user_score'].astype(float)"
      ]
    },
    {
      "cell_type": "code",
      "execution_count": null,
      "metadata": {
        "colab": {
          "base_uri": "https://localhost:8080/"
        },
        "id": "2JUWb2eT0vXr",
        "outputId": "641f10bb-f38d-4294-915c-bbead470384f"
      },
      "outputs": [
        {
          "name": "stdout",
          "output_type": "stream",
          "text": [
            "Доля пропусков в rating: 40.60%\n"
          ]
        }
      ],
      "source": [
        "print('Доля пропусков в rating: {:.2%}'.format(df['rating'].isna().mean()))"
      ]
    },
    {
      "cell_type": "markdown",
      "metadata": {
        "id": "3Kus_dHc2zy7"
      },
      "source": [
        "Доля пропусков в столбце \"рейтинг\" достаточно велика, этот столбец на понадобится для анализа, поэтому заменим пропуски на значение \"не доступно\"."
      ]
    },
    {
      "cell_type": "code",
      "execution_count": null,
      "metadata": {
        "id": "-8xAdUf00Ue8"
      },
      "outputs": [],
      "source": [
        "df['rating'] = df['rating'].fillna('не доступно')"
      ]
    },
    {
      "cell_type": "markdown",
      "metadata": {
        "id": "AZ0NS8tv74XH"
      },
      "source": [
        "<div class=\"alert alert-success\">\n",
        "<b>ОТЛИЧНО! 👍</b>\n",
        "\n",
        "Ты приняла верное решение, когда решила не оставлять в поле рейтинга пустые значение, а также заменить их на 0. Далее, когда ты будешь анализировать особенности регионов в зависимости от рейтинга ESRB, то увидишь, что если бы они остались NaN, то на графиках их не было бы видно, также такие игры \"выпали\" бы из выводов, а это красная ошибка в этом проекте.</div>\n"
      ]
    },
    {
      "cell_type": "code",
      "execution_count": null,
      "metadata": {
        "colab": {
          "base_uri": "https://localhost:8080/",
          "height": 447
        },
        "id": "wnVr2DlR1OC7",
        "outputId": "d34c0963-6e20-41a4-f638-825982490960"
      },
      "outputs": [
        {
          "data": {
            "text/plain": [
              "(16444, 11)"
            ]
          },
          "execution_count": 24,
          "metadata": {},
          "output_type": "execute_result"
        }
      ],
      "source": [
        "df.shape"
      ]
    },
    {
      "cell_type": "markdown",
      "metadata": {
        "id": "ZmGtb2qe74XJ"
      },
      "source": [
        "<div class=\"alert alert-warning\">\n",
        "<b>Комментарий 👉</b>\n",
        "\n",
        "Не имеет особого смысла выводить датафрейм без .head(). Если делаешь это для того, чтобы размерность data была на экране, то \"красивее\" было бы наверное использовать .shape в отдельной ячейке.</div>\n"
      ]
    },
    {
      "cell_type": "code",
      "execution_count": null,
      "metadata": {
        "colab": {
          "base_uri": "https://localhost:8080/"
        },
        "id": "k2dyDEo1SSAv",
        "outputId": "5b8a0eed-4e9f-4b78-d55f-c65aea3a29ee"
      },
      "outputs": [
        {
          "data": {
            "text/plain": [
              "name               0\n",
              "platform           0\n",
              "year_of_release    0\n",
              "genre              0\n",
              "na_sales           0\n",
              "eu_sales           0\n",
              "jp_sales           0\n",
              "other_sales        0\n",
              "critic_score       0\n",
              "user_score         0\n",
              "rating             0\n",
              "dtype: int64"
            ]
          },
          "execution_count": 25,
          "metadata": {},
          "output_type": "execute_result"
        }
      ],
      "source": [
        "df.isna().sum()#проверим на наличие пропусков"
      ]
    },
    {
      "cell_type": "code",
      "execution_count": null,
      "metadata": {
        "colab": {
          "base_uri": "https://localhost:8080/"
        },
        "id": "-p1z45IOXXO_",
        "outputId": "d2c55fcc-bdd2-4857-d837-9191025cbcd1"
      },
      "outputs": [
        {
          "data": {
            "text/plain": [
              "-1.0    8981\n",
              " 7.8     322\n",
              " 8.0     285\n",
              " 8.2     276\n",
              " 8.3     252\n",
              "        ... \n",
              " 0.7       2\n",
              " 0.2       2\n",
              " 1.0       2\n",
              " 9.7       1\n",
              " 0.0       1\n",
              "Name: user_score, Length: 96, dtype: int64"
            ]
          },
          "execution_count": 26,
          "metadata": {},
          "output_type": "execute_result"
        }
      ],
      "source": [
        "df['user_score'].value_counts()#tbd заменились на -1"
      ]
    },
    {
      "cell_type": "markdown",
      "metadata": {
        "id": "3xXezNgiY6sn"
      },
      "source": [
        "### Вывод 2."
      ]
    },
    {
      "cell_type": "markdown",
      "metadata": {
        "id": "lgkz-2t2Y-Yx"
      },
      "source": [
        "В этом разделе мы произвели предобработку данных:\n",
        "- перевели названия столбцов в нижний регистр;\n",
        "- удалили пропуски в стобцах year_of_release', 'genre', 'name';\n",
        "- перевели столбец \"год выпуска\" в целочисленный тип, а \"рейтинг пользователей\" в тип float;\n",
        "- нашли долю пропусков в critic_score, user_score, rating;\n",
        "- заменили пропуски critic_score, user_score на \"-1\", \"tbd\" в user_score также заменили на \"-1\". В столбце с рейтингом пропупуски заменили на \"не доступно\"."
      ]
    },
    {
      "cell_type": "markdown",
      "metadata": {
        "id": "yvXovUT874XM"
      },
      "source": [
        "<div class=\"alert alert-success\">\n",
        "<b>ОТЛИЧНО! 👍</b>\n",
        "\n",
        "Данные загружены, отлично.\n",
        "\n",
        "Хорошо, что применяешь метод .head()/.sample() таким образом в память не будет загружен весь датасет, объем которого может быть огромным.\n",
        "\n",
        "Методы .info, .describe, .value_counts(), .unique() как правило часто встречаются и обязательны к применению в задачах по исследованию данных, ведь с их помощью можно получить первые инсайты. \n",
        "\n",
        "Молодец, что провела предварительный анализ данных, проверила данные на наличие пропусков и затем обработала их (аргументированно заполнила/удалила) теперь можно приступать и к EDA (== Exploratory Data Analysis).</div>\n"
      ]
    },
    {
      "cell_type": "markdown",
      "metadata": {
        "id": "KEkvcK2iabpW"
      },
      "source": [
        "## 3. Исследовательский анализ данных"
      ]
    },
    {
      "cell_type": "markdown",
      "metadata": {
        "id": "r-nX14N6UhVG"
      },
      "source": [
        "#### Шаг 3.1 Посмотрим, сколько игр выпускалось в разные годы и выясним, важны ли данные за все периоды.\n"
      ]
    },
    {
      "cell_type": "code",
      "execution_count": null,
      "metadata": {
        "colab": {
          "base_uri": "https://localhost:8080/",
          "height": 424
        },
        "id": "Q7cLIG8GU0OC",
        "outputId": "76b4949e-357e-4978-f36f-1dfb4626f6af"
      },
      "outputs": [
        {
          "data": {
            "image/png": "[encoded data removed]",
            "text/plain": [
              "<Figure size 576x432 with 1 Axes>"
            ]
          },
          "metadata": {
            "needs_background": "light"
          },
          "output_type": "display_data"
        }
      ],
      "source": [
        "df_year = df.pivot_table(index='year_of_release', values=['name'], \n",
        "                                  aggfunc='count').plot.bar(figsize=(8, 6), \n",
        "                                                             grid=True)"
      ]
    },
    {
      "cell_type": "markdown",
      "metadata": {
        "id": "vNVGbLwi74XO"
      },
      "source": [
        "<div class=\"alert alert-warning\">\n",
        "<b>Комментарий 👉</b>\n",
        "\n",
        "Этот график, как и все прочие ниже, выиграли бы если бы были подписаны сами, а также оси X и Y, а также указаны единицы измерения по осям.</div>\n"
      ]
    },
    {
      "cell_type": "markdown",
      "metadata": {
        "id": "HS8HgP4UjA-v"
      },
      "source": [
        "Больше всего игр выпускалось в 2008 и 2009 годах. В период до 1995 года выходило очень мало игр. Поэтому важны даннные после этого периода."
      ]
    },
    {
      "cell_type": "markdown",
      "metadata": {
        "id": "DD2qE8mbjm8r"
      },
      "source": [
        "#### Шаг 3.2 Посмотрим, как менялись продажи по платформам. \n",
        "Выберем платформы с наибольшими суммарными продажами и построим распределение по годам. За какой характерный срок появляются новые и исчезают старые платформы?\n"
      ]
    },
    {
      "cell_type": "code",
      "execution_count": null,
      "metadata": {
        "id": "2ER7s_3XX7k8"
      },
      "outputs": [],
      "source": [
        "#создадим столбец с суммарными продажами\n",
        "df['all_sales'] = df['na_sales']+df['eu_sales']+df['jp_sales']+df['other_sales']"
      ]
    },
    {
      "cell_type": "markdown",
      "metadata": {
        "id": "NpA0yGhm74XQ"
      },
      "source": [
        "<div class=\"alert alert-warning\">\n",
        "<b>Комментарий 👉</b>\n",
        "\n",
        "Ещё такой вариант суммирования есть (просто как альтернатива … псевдокод): data[['na_sales','eu_sales','jp_sales', 'other_sales']].sum(axis='columns') и также \"присвоить\" результат новому столбцу в data.</div>\n"
      ]
    },
    {
      "cell_type": "code",
      "execution_count": null,
      "metadata": {
        "colab": {
          "base_uri": "https://localhost:8080/",
          "height": 447
        },
        "id": "w1ph97AxkZG0",
        "outputId": "9b2144a4-7190-4606-a3ed-b60f4ac0f57a"
      },
      "outputs": [
        {
          "data": {
            "text/html": [
              "<div>\n",
              "<style scoped>\n",
              "    .dataframe tbody tr th:only-of-type {\n",
              "        vertical-align: middle;\n",
              "    }\n",
              "\n",
              "    .dataframe tbody tr th {\n",
              "        vertical-align: top;\n",
              "    }\n",
              "\n",
              "    .dataframe thead th {\n",
              "        text-align: right;\n",
              "    }\n",
              "</style>\n",
              "<table border=\"1\" class=\"dataframe\">\n",
              "  <thead>\n",
              "    <tr style=\"text-align: right;\">\n",
              "      <th></th>\n",
              "      <th>name</th>\n",
              "      <th>platform</th>\n",
              "      <th>year_of_release</th>\n",
              "      <th>genre</th>\n",
              "      <th>na_sales</th>\n",
              "      <th>eu_sales</th>\n",
              "      <th>jp_sales</th>\n",
              "      <th>other_sales</th>\n",
              "      <th>critic_score</th>\n",
              "      <th>user_score</th>\n",
              "      <th>rating</th>\n",
              "      <th>all_sales</th>\n",
              "    </tr>\n",
              "  </thead>\n",
              "  <tbody>\n",
              "    <tr>\n",
              "      <th>0</th>\n",
              "      <td>Wii Sports</td>\n",
              "      <td>Wii</td>\n",
              "      <td>2006</td>\n",
              "      <td>Sports</td>\n",
              "      <td>41.36</td>\n",
              "      <td>28.96</td>\n",
              "      <td>3.77</td>\n",
              "      <td>8.45</td>\n",
              "      <td>76</td>\n",
              "      <td>8.0</td>\n",
              "      <td>E</td>\n",
              "      <td>82.54</td>\n",
              "    </tr>\n",
              "    <tr>\n",
              "      <th>1</th>\n",
              "      <td>Super Mario Bros.</td>\n",
              "      <td>NES</td>\n",
              "      <td>1985</td>\n",
              "      <td>Platform</td>\n",
              "      <td>29.08</td>\n",
              "      <td>3.58</td>\n",
              "      <td>6.81</td>\n",
              "      <td>0.77</td>\n",
              "      <td>-1</td>\n",
              "      <td>-1.0</td>\n",
              "      <td>не доступно</td>\n",
              "      <td>40.24</td>\n",
              "    </tr>\n",
              "    <tr>\n",
              "      <th>2</th>\n",
              "      <td>Mario Kart Wii</td>\n",
              "      <td>Wii</td>\n",
              "      <td>2008</td>\n",
              "      <td>Racing</td>\n",
              "      <td>15.68</td>\n",
              "      <td>12.76</td>\n",
              "      <td>3.79</td>\n",
              "      <td>3.29</td>\n",
              "      <td>82</td>\n",
              "      <td>8.3</td>\n",
              "      <td>E</td>\n",
              "      <td>35.52</td>\n",
              "    </tr>\n",
              "    <tr>\n",
              "      <th>3</th>\n",
              "      <td>Wii Sports Resort</td>\n",
              "      <td>Wii</td>\n",
              "      <td>2009</td>\n",
              "      <td>Sports</td>\n",
              "      <td>15.61</td>\n",
              "      <td>10.93</td>\n",
              "      <td>3.28</td>\n",
              "      <td>2.95</td>\n",
              "      <td>80</td>\n",
              "      <td>8.0</td>\n",
              "      <td>E</td>\n",
              "      <td>32.77</td>\n",
              "    </tr>\n",
              "    <tr>\n",
              "      <th>4</th>\n",
              "      <td>Pokemon Red/Pokemon Blue</td>\n",
              "      <td>GB</td>\n",
              "      <td>1996</td>\n",
              "      <td>Role-Playing</td>\n",
              "      <td>11.27</td>\n",
              "      <td>8.89</td>\n",
              "      <td>10.22</td>\n",
              "      <td>1.00</td>\n",
              "      <td>-1</td>\n",
              "      <td>-1.0</td>\n",
              "      <td>не доступно</td>\n",
              "      <td>31.38</td>\n",
              "    </tr>\n",
              "    <tr>\n",
              "      <th>...</th>\n",
              "      <td>...</td>\n",
              "      <td>...</td>\n",
              "      <td>...</td>\n",
              "      <td>...</td>\n",
              "      <td>...</td>\n",
              "      <td>...</td>\n",
              "      <td>...</td>\n",
              "      <td>...</td>\n",
              "      <td>...</td>\n",
              "      <td>...</td>\n",
              "      <td>...</td>\n",
              "      <td>...</td>\n",
              "    </tr>\n",
              "    <tr>\n",
              "      <th>16710</th>\n",
              "      <td>Samurai Warriors: Sanada Maru</td>\n",
              "      <td>PS3</td>\n",
              "      <td>2016</td>\n",
              "      <td>Action</td>\n",
              "      <td>0.00</td>\n",
              "      <td>0.00</td>\n",
              "      <td>0.01</td>\n",
              "      <td>0.00</td>\n",
              "      <td>-1</td>\n",
              "      <td>-1.0</td>\n",
              "      <td>не доступно</td>\n",
              "      <td>0.01</td>\n",
              "    </tr>\n",
              "    <tr>\n",
              "      <th>16711</th>\n",
              "      <td>LMA Manager 2007</td>\n",
              "      <td>X360</td>\n",
              "      <td>2006</td>\n",
              "      <td>Sports</td>\n",
              "      <td>0.00</td>\n",
              "      <td>0.01</td>\n",
              "      <td>0.00</td>\n",
              "      <td>0.00</td>\n",
              "      <td>-1</td>\n",
              "      <td>-1.0</td>\n",
              "      <td>не доступно</td>\n",
              "      <td>0.01</td>\n",
              "    </tr>\n",
              "    <tr>\n",
              "      <th>16712</th>\n",
              "      <td>Haitaka no Psychedelica</td>\n",
              "      <td>PSV</td>\n",
              "      <td>2016</td>\n",
              "      <td>Adventure</td>\n",
              "      <td>0.00</td>\n",
              "      <td>0.00</td>\n",
              "      <td>0.01</td>\n",
              "      <td>0.00</td>\n",
              "      <td>-1</td>\n",
              "      <td>-1.0</td>\n",
              "      <td>не доступно</td>\n",
              "      <td>0.01</td>\n",
              "    </tr>\n",
              "    <tr>\n",
              "      <th>16713</th>\n",
              "      <td>Spirits &amp; Spells</td>\n",
              "      <td>GBA</td>\n",
              "      <td>2003</td>\n",
              "      <td>Platform</td>\n",
              "      <td>0.01</td>\n",
              "      <td>0.00</td>\n",
              "      <td>0.00</td>\n",
              "      <td>0.00</td>\n",
              "      <td>-1</td>\n",
              "      <td>-1.0</td>\n",
              "      <td>не доступно</td>\n",
              "      <td>0.01</td>\n",
              "    </tr>\n",
              "    <tr>\n",
              "      <th>16714</th>\n",
              "      <td>Winning Post 8 2016</td>\n",
              "      <td>PSV</td>\n",
              "      <td>2016</td>\n",
              "      <td>Simulation</td>\n",
              "      <td>0.00</td>\n",
              "      <td>0.00</td>\n",
              "      <td>0.01</td>\n",
              "      <td>0.00</td>\n",
              "      <td>-1</td>\n",
              "      <td>-1.0</td>\n",
              "      <td>не доступно</td>\n",
              "      <td>0.01</td>\n",
              "    </tr>\n",
              "  </tbody>\n",
              "</table>\n",
              "<p>16444 rows × 12 columns</p>\n",
              "</div>"
            ],
            "text/plain": [
              "                                name platform  year_of_release         genre  \\\n",
              "0                         Wii Sports      Wii             2006        Sports   \n",
              "1                  Super Mario Bros.      NES             1985      Platform   \n",
              "2                     Mario Kart Wii      Wii             2008        Racing   \n",
              "3                  Wii Sports Resort      Wii             2009        Sports   \n",
              "4           Pokemon Red/Pokemon Blue       GB             1996  Role-Playing   \n",
              "...                              ...      ...              ...           ...   \n",
              "16710  Samurai Warriors: Sanada Maru      PS3             2016        Action   \n",
              "16711               LMA Manager 2007     X360             2006        Sports   \n",
              "16712        Haitaka no Psychedelica      PSV             2016     Adventure   \n",
              "16713               Spirits & Spells      GBA             2003      Platform   \n",
              "16714            Winning Post 8 2016      PSV             2016    Simulation   \n",
              "\n",
              "       na_sales  eu_sales  jp_sales  other_sales  critic_score  user_score  \\\n",
              "0         41.36     28.96      3.77         8.45            76         8.0   \n",
              "1         29.08      3.58      6.81         0.77            -1        -1.0   \n",
              "2         15.68     12.76      3.79         3.29            82         8.3   \n",
              "3         15.61     10.93      3.28         2.95            80         8.0   \n",
              "4         11.27      8.89     10.22         1.00            -1        -1.0   \n",
              "...         ...       ...       ...          ...           ...         ...   \n",
              "16710      0.00      0.00      0.01         0.00            -1        -1.0   \n",
              "16711      0.00      0.01      0.00         0.00            -1        -1.0   \n",
              "16712      0.00      0.00      0.01         0.00            -1        -1.0   \n",
              "16713      0.01      0.00      0.00         0.00            -1        -1.0   \n",
              "16714      0.00      0.00      0.01         0.00            -1        -1.0   \n",
              "\n",
              "            rating  all_sales  \n",
              "0                E      82.54  \n",
              "1      не доступно      40.24  \n",
              "2                E      35.52  \n",
              "3                E      32.77  \n",
              "4      не доступно      31.38  \n",
              "...            ...        ...  \n",
              "16710  не доступно       0.01  \n",
              "16711  не доступно       0.01  \n",
              "16712  не доступно       0.01  \n",
              "16713  не доступно       0.01  \n",
              "16714  не доступно       0.01  \n",
              "\n",
              "[16444 rows x 12 columns]"
            ]
          },
          "execution_count": 29,
          "metadata": {},
          "output_type": "execute_result"
        }
      ],
      "source": [
        "df\n"
      ]
    },
    {
      "cell_type": "code",
      "execution_count": null,
      "metadata": {
        "colab": {
          "base_uri": "https://localhost:8080/",
          "height": 291
        },
        "id": "neZJ7mHtlGvb",
        "outputId": "d95a6def-2b39-48ab-d6b4-763e5b864be0"
      },
      "outputs": [
        {
          "data": {
            "text/html": [
              "<div>\n",
              "<style scoped>\n",
              "    .dataframe tbody tr th:only-of-type {\n",
              "        vertical-align: middle;\n",
              "    }\n",
              "\n",
              "    .dataframe tbody tr th {\n",
              "        vertical-align: top;\n",
              "    }\n",
              "\n",
              "    .dataframe thead th {\n",
              "        text-align: right;\n",
              "    }\n",
              "</style>\n",
              "<table border=\"1\" class=\"dataframe\">\n",
              "  <thead>\n",
              "    <tr style=\"text-align: right;\">\n",
              "      <th></th>\n",
              "      <th>platform</th>\n",
              "      <th>all_sales</th>\n",
              "    </tr>\n",
              "  </thead>\n",
              "  <tbody>\n",
              "    <tr>\n",
              "      <th>0</th>\n",
              "      <td>PS2</td>\n",
              "      <td>1233.56</td>\n",
              "    </tr>\n",
              "    <tr>\n",
              "      <th>1</th>\n",
              "      <td>X360</td>\n",
              "      <td>961.24</td>\n",
              "    </tr>\n",
              "    <tr>\n",
              "      <th>2</th>\n",
              "      <td>PS3</td>\n",
              "      <td>931.34</td>\n",
              "    </tr>\n",
              "    <tr>\n",
              "      <th>3</th>\n",
              "      <td>Wii</td>\n",
              "      <td>891.18</td>\n",
              "    </tr>\n",
              "    <tr>\n",
              "      <th>4</th>\n",
              "      <td>DS</td>\n",
              "      <td>802.78</td>\n",
              "    </tr>\n",
              "    <tr>\n",
              "      <th>5</th>\n",
              "      <td>PS</td>\n",
              "      <td>727.58</td>\n",
              "    </tr>\n",
              "    <tr>\n",
              "      <th>6</th>\n",
              "      <td>PS4</td>\n",
              "      <td>314.14</td>\n",
              "    </tr>\n",
              "  </tbody>\n",
              "</table>\n",
              "</div>"
            ],
            "text/plain": [
              "  platform  all_sales\n",
              "0      PS2    1233.56\n",
              "1     X360     961.24\n",
              "2      PS3     931.34\n",
              "3      Wii     891.18\n",
              "4       DS     802.78\n",
              "5       PS     727.58\n",
              "6      PS4     314.14"
            ]
          },
          "execution_count": 30,
          "metadata": {},
          "output_type": "execute_result"
        }
      ],
      "source": [
        "#найдем платформы с наибольшими суммарным продажам\n",
        "platform_sales = df.pivot_table(\n",
        "    index ='platform',\n",
        "    values ='all_sales', \n",
        "    aggfunc ='sum').sort_values(\n",
        "    by='all_sales', \n",
        "    ascending=False).reset_index().head(7)#выведем топ-7 платформ\n",
        "platform_sales"
      ]
    },
    {
      "cell_type": "code",
      "execution_count": null,
      "metadata": {
        "colab": {
          "base_uri": "https://localhost:8080/"
        },
        "id": "OcFFf4hBrP5S",
        "outputId": "5e5eeea1-028c-4fd7-f58f-4939f2dd059c"
      },
      "outputs": [
        {
          "data": {
            "text/plain": [
              "['PS2', 'X360', 'PS3', 'Wii', 'DS', 'PS', 'PS4']"
            ]
          },
          "execution_count": 31,
          "metadata": {},
          "output_type": "execute_result"
        }
      ],
      "source": [
        "#сделаем список с топ-7 платформами\n",
        "top = list(platform_sales['platform'])\n",
        "top"
      ]
    },
    {
      "cell_type": "code",
      "execution_count": null,
      "metadata": {
        "colab": {
          "base_uri": "https://localhost:8080/",
          "height": 291
        },
        "id": "fICzio8_k2HF",
        "outputId": "54d8865f-c825-4893-d6e1-9fa2a154dc5d"
      },
      "outputs": [
        {
          "data": {
            "text/html": [
              "<div>\n",
              "<style scoped>\n",
              "    .dataframe tbody tr th:only-of-type {\n",
              "        vertical-align: middle;\n",
              "    }\n",
              "\n",
              "    .dataframe tbody tr th {\n",
              "        vertical-align: top;\n",
              "    }\n",
              "\n",
              "    .dataframe thead th {\n",
              "        text-align: right;\n",
              "    }\n",
              "</style>\n",
              "<table border=\"1\" class=\"dataframe\">\n",
              "  <thead>\n",
              "    <tr style=\"text-align: right;\">\n",
              "      <th></th>\n",
              "      <th>platform</th>\n",
              "      <th>all_sales</th>\n",
              "    </tr>\n",
              "  </thead>\n",
              "  <tbody>\n",
              "    <tr>\n",
              "      <th>0</th>\n",
              "      <td>PS2</td>\n",
              "      <td>1233.56</td>\n",
              "    </tr>\n",
              "    <tr>\n",
              "      <th>1</th>\n",
              "      <td>X360</td>\n",
              "      <td>961.24</td>\n",
              "    </tr>\n",
              "    <tr>\n",
              "      <th>2</th>\n",
              "      <td>PS3</td>\n",
              "      <td>931.34</td>\n",
              "    </tr>\n",
              "    <tr>\n",
              "      <th>3</th>\n",
              "      <td>Wii</td>\n",
              "      <td>891.18</td>\n",
              "    </tr>\n",
              "    <tr>\n",
              "      <th>4</th>\n",
              "      <td>DS</td>\n",
              "      <td>802.78</td>\n",
              "    </tr>\n",
              "    <tr>\n",
              "      <th>5</th>\n",
              "      <td>PS</td>\n",
              "      <td>727.58</td>\n",
              "    </tr>\n",
              "    <tr>\n",
              "      <th>6</th>\n",
              "      <td>PS4</td>\n",
              "      <td>314.14</td>\n",
              "    </tr>\n",
              "  </tbody>\n",
              "</table>\n",
              "</div>"
            ],
            "text/plain": [
              "  platform  all_sales\n",
              "0      PS2    1233.56\n",
              "1     X360     961.24\n",
              "2      PS3     931.34\n",
              "3      Wii     891.18\n",
              "4       DS     802.78\n",
              "5       PS     727.58\n",
              "6      PS4     314.14"
            ]
          },
          "execution_count": 32,
          "metadata": {},
          "output_type": "execute_result"
        }
      ],
      "source": [
        "#создадим таблицу с топ-7 платформами по продажам\n",
        "platform_sales_top = platform_sales.query('platform in @top').reset_index(drop=True)\n",
        "platform_sales_top"
      ]
    },
    {
      "cell_type": "markdown",
      "metadata": {
        "id": "q4gQeTf674XU"
      },
      "source": [
        "<div class=\"alert alert-warning\">\n",
        "<b>Комментарий 👉</b>\n",
        "\n",
        "Елена, а не проще было **platform_sales_top** сделать сразу из **platform_sales**, просто \"отрезав\" первые 7 строк? Т.е. минуя создание списка **top**, а затем выполнения **query('platform in @top')** ...</div>"
      ]
    },
    {
      "cell_type": "code",
      "execution_count": null,
      "metadata": {
        "colab": {
          "base_uri": "https://localhost:8080/",
          "height": 447
        },
        "id": "QMKOedn6laEN",
        "outputId": "95c35498-2ca2-4d6e-8523-024afd1e079f"
      },
      "outputs": [
        {
          "data": {
            "text/html": [
              "<div>\n",
              "<style scoped>\n",
              "    .dataframe tbody tr th:only-of-type {\n",
              "        vertical-align: middle;\n",
              "    }\n",
              "\n",
              "    .dataframe tbody tr th {\n",
              "        vertical-align: top;\n",
              "    }\n",
              "\n",
              "    .dataframe thead th {\n",
              "        text-align: right;\n",
              "    }\n",
              "</style>\n",
              "<table border=\"1\" class=\"dataframe\">\n",
              "  <thead>\n",
              "    <tr style=\"text-align: right;\">\n",
              "      <th></th>\n",
              "      <th>name</th>\n",
              "      <th>platform</th>\n",
              "      <th>year_of_release</th>\n",
              "      <th>genre</th>\n",
              "      <th>na_sales</th>\n",
              "      <th>eu_sales</th>\n",
              "      <th>jp_sales</th>\n",
              "      <th>other_sales</th>\n",
              "      <th>critic_score</th>\n",
              "      <th>user_score</th>\n",
              "      <th>rating</th>\n",
              "      <th>all_sales</th>\n",
              "    </tr>\n",
              "  </thead>\n",
              "  <tbody>\n",
              "    <tr>\n",
              "      <th>0</th>\n",
              "      <td>Wii Sports</td>\n",
              "      <td>Wii</td>\n",
              "      <td>2006</td>\n",
              "      <td>Sports</td>\n",
              "      <td>41.36</td>\n",
              "      <td>28.96</td>\n",
              "      <td>3.77</td>\n",
              "      <td>8.45</td>\n",
              "      <td>76</td>\n",
              "      <td>8.0</td>\n",
              "      <td>E</td>\n",
              "      <td>82.54</td>\n",
              "    </tr>\n",
              "    <tr>\n",
              "      <th>2</th>\n",
              "      <td>Mario Kart Wii</td>\n",
              "      <td>Wii</td>\n",
              "      <td>2008</td>\n",
              "      <td>Racing</td>\n",
              "      <td>15.68</td>\n",
              "      <td>12.76</td>\n",
              "      <td>3.79</td>\n",
              "      <td>3.29</td>\n",
              "      <td>82</td>\n",
              "      <td>8.3</td>\n",
              "      <td>E</td>\n",
              "      <td>35.52</td>\n",
              "    </tr>\n",
              "    <tr>\n",
              "      <th>3</th>\n",
              "      <td>Wii Sports Resort</td>\n",
              "      <td>Wii</td>\n",
              "      <td>2009</td>\n",
              "      <td>Sports</td>\n",
              "      <td>15.61</td>\n",
              "      <td>10.93</td>\n",
              "      <td>3.28</td>\n",
              "      <td>2.95</td>\n",
              "      <td>80</td>\n",
              "      <td>8.0</td>\n",
              "      <td>E</td>\n",
              "      <td>32.77</td>\n",
              "    </tr>\n",
              "    <tr>\n",
              "      <th>6</th>\n",
              "      <td>New Super Mario Bros.</td>\n",
              "      <td>DS</td>\n",
              "      <td>2006</td>\n",
              "      <td>Platform</td>\n",
              "      <td>11.28</td>\n",
              "      <td>9.14</td>\n",
              "      <td>6.50</td>\n",
              "      <td>2.88</td>\n",
              "      <td>89</td>\n",
              "      <td>8.5</td>\n",
              "      <td>E</td>\n",
              "      <td>29.80</td>\n",
              "    </tr>\n",
              "    <tr>\n",
              "      <th>7</th>\n",
              "      <td>Wii Play</td>\n",
              "      <td>Wii</td>\n",
              "      <td>2006</td>\n",
              "      <td>Misc</td>\n",
              "      <td>13.96</td>\n",
              "      <td>9.18</td>\n",
              "      <td>2.93</td>\n",
              "      <td>2.84</td>\n",
              "      <td>58</td>\n",
              "      <td>6.6</td>\n",
              "      <td>E</td>\n",
              "      <td>28.91</td>\n",
              "    </tr>\n",
              "    <tr>\n",
              "      <th>...</th>\n",
              "      <td>...</td>\n",
              "      <td>...</td>\n",
              "      <td>...</td>\n",
              "      <td>...</td>\n",
              "      <td>...</td>\n",
              "      <td>...</td>\n",
              "      <td>...</td>\n",
              "      <td>...</td>\n",
              "      <td>...</td>\n",
              "      <td>...</td>\n",
              "      <td>...</td>\n",
              "      <td>...</td>\n",
              "    </tr>\n",
              "    <tr>\n",
              "      <th>16700</th>\n",
              "      <td>Mezase!! Tsuri Master DS</td>\n",
              "      <td>DS</td>\n",
              "      <td>2009</td>\n",
              "      <td>Sports</td>\n",
              "      <td>0.00</td>\n",
              "      <td>0.00</td>\n",
              "      <td>0.01</td>\n",
              "      <td>0.00</td>\n",
              "      <td>-1</td>\n",
              "      <td>-1.0</td>\n",
              "      <td>не доступно</td>\n",
              "      <td>0.01</td>\n",
              "    </tr>\n",
              "    <tr>\n",
              "      <th>16704</th>\n",
              "      <td>Plushees</td>\n",
              "      <td>DS</td>\n",
              "      <td>2008</td>\n",
              "      <td>Simulation</td>\n",
              "      <td>0.01</td>\n",
              "      <td>0.00</td>\n",
              "      <td>0.00</td>\n",
              "      <td>0.00</td>\n",
              "      <td>-1</td>\n",
              "      <td>-1.0</td>\n",
              "      <td>E</td>\n",
              "      <td>0.01</td>\n",
              "    </tr>\n",
              "    <tr>\n",
              "      <th>16709</th>\n",
              "      <td>SCORE International Baja 1000: The Official Game</td>\n",
              "      <td>PS2</td>\n",
              "      <td>2008</td>\n",
              "      <td>Racing</td>\n",
              "      <td>0.00</td>\n",
              "      <td>0.00</td>\n",
              "      <td>0.00</td>\n",
              "      <td>0.00</td>\n",
              "      <td>-1</td>\n",
              "      <td>-1.0</td>\n",
              "      <td>не доступно</td>\n",
              "      <td>0.00</td>\n",
              "    </tr>\n",
              "    <tr>\n",
              "      <th>16710</th>\n",
              "      <td>Samurai Warriors: Sanada Maru</td>\n",
              "      <td>PS3</td>\n",
              "      <td>2016</td>\n",
              "      <td>Action</td>\n",
              "      <td>0.00</td>\n",
              "      <td>0.00</td>\n",
              "      <td>0.01</td>\n",
              "      <td>0.00</td>\n",
              "      <td>-1</td>\n",
              "      <td>-1.0</td>\n",
              "      <td>не доступно</td>\n",
              "      <td>0.01</td>\n",
              "    </tr>\n",
              "    <tr>\n",
              "      <th>16711</th>\n",
              "      <td>LMA Manager 2007</td>\n",
              "      <td>X360</td>\n",
              "      <td>2006</td>\n",
              "      <td>Sports</td>\n",
              "      <td>0.00</td>\n",
              "      <td>0.01</td>\n",
              "      <td>0.00</td>\n",
              "      <td>0.00</td>\n",
              "      <td>-1</td>\n",
              "      <td>-1.0</td>\n",
              "      <td>не доступно</td>\n",
              "      <td>0.01</td>\n",
              "    </tr>\n",
              "  </tbody>\n",
              "</table>\n",
              "<p>9654 rows × 12 columns</p>\n",
              "</div>"
            ],
            "text/plain": [
              "                                                   name platform  \\\n",
              "0                                            Wii Sports      Wii   \n",
              "2                                        Mario Kart Wii      Wii   \n",
              "3                                     Wii Sports Resort      Wii   \n",
              "6                                 New Super Mario Bros.       DS   \n",
              "7                                              Wii Play      Wii   \n",
              "...                                                 ...      ...   \n",
              "16700                          Mezase!! Tsuri Master DS       DS   \n",
              "16704                                          Plushees       DS   \n",
              "16709  SCORE International Baja 1000: The Official Game      PS2   \n",
              "16710                     Samurai Warriors: Sanada Maru      PS3   \n",
              "16711                                  LMA Manager 2007     X360   \n",
              "\n",
              "       year_of_release       genre  na_sales  eu_sales  jp_sales  other_sales  \\\n",
              "0                 2006      Sports     41.36     28.96      3.77         8.45   \n",
              "2                 2008      Racing     15.68     12.76      3.79         3.29   \n",
              "3                 2009      Sports     15.61     10.93      3.28         2.95   \n",
              "6                 2006    Platform     11.28      9.14      6.50         2.88   \n",
              "7                 2006        Misc     13.96      9.18      2.93         2.84   \n",
              "...                ...         ...       ...       ...       ...          ...   \n",
              "16700             2009      Sports      0.00      0.00      0.01         0.00   \n",
              "16704             2008  Simulation      0.01      0.00      0.00         0.00   \n",
              "16709             2008      Racing      0.00      0.00      0.00         0.00   \n",
              "16710             2016      Action      0.00      0.00      0.01         0.00   \n",
              "16711             2006      Sports      0.00      0.01      0.00         0.00   \n",
              "\n",
              "       critic_score  user_score       rating  all_sales  \n",
              "0                76         8.0            E      82.54  \n",
              "2                82         8.3            E      35.52  \n",
              "3                80         8.0            E      32.77  \n",
              "6                89         8.5            E      29.80  \n",
              "7                58         6.6            E      28.91  \n",
              "...             ...         ...          ...        ...  \n",
              "16700            -1        -1.0  не доступно       0.01  \n",
              "16704            -1        -1.0            E       0.01  \n",
              "16709            -1        -1.0  не доступно       0.00  \n",
              "16710            -1        -1.0  не доступно       0.01  \n",
              "16711            -1        -1.0  не доступно       0.01  \n",
              "\n",
              "[9654 rows x 12 columns]"
            ]
          },
          "execution_count": 33,
          "metadata": {},
          "output_type": "execute_result"
        }
      ],
      "source": [
        "#отфильтруем наш датафрем для топ-7 платформ\n",
        "df_top7 = df[df['platform'].isin(platform_sales_top['platform'])]\n",
        "df_top7"
      ]
    },
    {
      "cell_type": "code",
      "execution_count": null,
      "metadata": {
        "colab": {
          "base_uri": "https://localhost:8080/",
          "height": 453
        },
        "id": "CMinTodEcaCL",
        "outputId": "1d5c0990-ae67-4ded-f3e5-e1efea25cd86"
      },
      "outputs": [
        {
          "data": {
            "image/png": "[encoded data removed]",
            "text/plain": [
              "<Figure size 1008x432 with 1 Axes>"
            ]
          },
          "metadata": {
            "needs_background": "light"
          },
          "output_type": "display_data"
        }
      ],
      "source": [
        "#сгруппируем данные по платформе, году выпуска и суммарным продажам и построим графики\n",
        "df_top7.groupby(['year_of_release', 'platform'])['all_sales'].sum().unstack().plot(\n",
        "    linewidth=3, figsize=(14, 6));\n",
        "plt.title('Динамика продаж игр в 1980-2016 гг. \\n (семь наиболее популярных платформ)', fontsize=18);\n",
        "plt.xlabel('год', fontsize=14)\n",
        "plt.ylabel('продажи, млн копий', fontsize=14);"
      ]
    },
    {
      "cell_type": "markdown",
      "metadata": {
        "id": "O3y1Znob74XX"
      },
      "source": [
        "<div class=\"alert alert-success\">\n",
        "<b>ОТЛИЧНО! 👍</b>\n",
        "\n",
        "О, а вот теперь супер: график подписан, оси подписаны. Молодец!</div>"
      ]
    },
    {
      "cell_type": "code",
      "execution_count": null,
      "metadata": {
        "id": "dZ_BN8n2k_3L"
      },
      "outputs": [],
      "source": [
        "#sales_by_year_by_platform = df.pivot_table(index='year_of_release', values='all_sales', columns='platform', aggfunc='sum').plot(figsize=(14, 6), \n",
        "                                                             #grid=True)"
      ]
    },
    {
      "cell_type": "code",
      "execution_count": null,
      "metadata": {
        "colab": {
          "base_uri": "https://localhost:8080/",
          "height": 291
        },
        "id": "80VjXg9AkBjU",
        "outputId": "70f98f2d-63bd-43e9-93f0-4bac9431ab0f"
      },
      "outputs": [
        {
          "data": {
            "text/html": [
              "<div>\n",
              "<style scoped>\n",
              "    .dataframe tbody tr th:only-of-type {\n",
              "        vertical-align: middle;\n",
              "    }\n",
              "\n",
              "    .dataframe tbody tr th {\n",
              "        vertical-align: top;\n",
              "    }\n",
              "\n",
              "    .dataframe thead th {\n",
              "        text-align: right;\n",
              "    }\n",
              "</style>\n",
              "<table border=\"1\" class=\"dataframe\">\n",
              "  <thead>\n",
              "    <tr style=\"text-align: right;\">\n",
              "      <th></th>\n",
              "      <th>platform</th>\n",
              "      <th>lifespan</th>\n",
              "    </tr>\n",
              "  </thead>\n",
              "  <tbody>\n",
              "    <tr>\n",
              "      <th>0</th>\n",
              "      <td>DS</td>\n",
              "      <td>28</td>\n",
              "    </tr>\n",
              "    <tr>\n",
              "      <th>2</th>\n",
              "      <td>PS2</td>\n",
              "      <td>11</td>\n",
              "    </tr>\n",
              "    <tr>\n",
              "      <th>6</th>\n",
              "      <td>X360</td>\n",
              "      <td>11</td>\n",
              "    </tr>\n",
              "    <tr>\n",
              "      <th>3</th>\n",
              "      <td>PS3</td>\n",
              "      <td>10</td>\n",
              "    </tr>\n",
              "    <tr>\n",
              "      <th>5</th>\n",
              "      <td>Wii</td>\n",
              "      <td>10</td>\n",
              "    </tr>\n",
              "    <tr>\n",
              "      <th>1</th>\n",
              "      <td>PS</td>\n",
              "      <td>9</td>\n",
              "    </tr>\n",
              "    <tr>\n",
              "      <th>4</th>\n",
              "      <td>PS4</td>\n",
              "      <td>3</td>\n",
              "    </tr>\n",
              "  </tbody>\n",
              "</table>\n",
              "</div>"
            ],
            "text/plain": [
              "  platform  lifespan\n",
              "0       DS        28\n",
              "2      PS2        11\n",
              "6     X360        11\n",
              "3      PS3        10\n",
              "5      Wii        10\n",
              "1       PS         9\n",
              "4      PS4         3"
            ]
          },
          "execution_count": 36,
          "metadata": {},
          "output_type": "execute_result"
        }
      ],
      "source": [
        "#найдем жизненный цикл платформ\n",
        "lifespans = (df_top7.groupby('platform')['year_of_release'].max()-\n",
        "             df_top7.groupby('platform')['year_of_release'].min()).reset_index()\n",
        "lifespans.rename (columns={'year_of_release': 'lifespan'}, inplace=-True)\n",
        "lifespans.sort_values(by='lifespan', ascending=False).head(7)"
      ]
    },
    {
      "cell_type": "markdown",
      "metadata": {
        "id": "dz-5Mey_ZlJC"
      },
      "source": [
        "В основном платформы имеют 10-11-летний жизненный цикл. Платформа DS выглядит аномалией на их фоне. Взглянем на нее поближе."
      ]
    },
    {
      "cell_type": "markdown",
      "metadata": {
        "id": "FYY-DcRj74XZ"
      },
      "source": [
        "<div class=\"alert alert-success\">\n",
        "<b>ОТЛИЧНО! 👍</b>\n",
        "\n",
        "Подтверждаю 7-9-11 лет, как корректный интервал, описывающий средний срок жизни игровой платформы.</div>\n"
      ]
    },
    {
      "cell_type": "code",
      "execution_count": null,
      "metadata": {
        "colab": {
          "base_uri": "https://localhost:8080/",
          "height": 133
        },
        "id": "aC77k-nzTJ0j",
        "outputId": "013ae1c3-ed1f-47c6-f30b-3354d08a8441"
      },
      "outputs": [
        {
          "data": {
            "text/html": [
              "<div>\n",
              "<style scoped>\n",
              "    .dataframe tbody tr th:only-of-type {\n",
              "        vertical-align: middle;\n",
              "    }\n",
              "\n",
              "    .dataframe tbody tr th {\n",
              "        vertical-align: top;\n",
              "    }\n",
              "\n",
              "    .dataframe thead th {\n",
              "        text-align: right;\n",
              "    }\n",
              "</style>\n",
              "<table border=\"1\" class=\"dataframe\">\n",
              "  <thead>\n",
              "    <tr style=\"text-align: right;\">\n",
              "      <th></th>\n",
              "      <th>name</th>\n",
              "      <th>platform</th>\n",
              "      <th>year_of_release</th>\n",
              "      <th>genre</th>\n",
              "      <th>na_sales</th>\n",
              "      <th>eu_sales</th>\n",
              "      <th>jp_sales</th>\n",
              "      <th>other_sales</th>\n",
              "      <th>critic_score</th>\n",
              "      <th>user_score</th>\n",
              "      <th>rating</th>\n",
              "      <th>all_sales</th>\n",
              "    </tr>\n",
              "  </thead>\n",
              "  <tbody>\n",
              "    <tr>\n",
              "      <th>15957</th>\n",
              "      <td>Strongest Tokyo University Shogi DS</td>\n",
              "      <td>DS</td>\n",
              "      <td>1985</td>\n",
              "      <td>Action</td>\n",
              "      <td>0.00</td>\n",
              "      <td>0.0</td>\n",
              "      <td>0.02</td>\n",
              "      <td>0.0</td>\n",
              "      <td>-1</td>\n",
              "      <td>-1.0</td>\n",
              "      <td>не доступно</td>\n",
              "      <td>0.02</td>\n",
              "    </tr>\n",
              "    <tr>\n",
              "      <th>13463</th>\n",
              "      <td>Cocoto Kart Racer</td>\n",
              "      <td>DS</td>\n",
              "      <td>2004</td>\n",
              "      <td>Racing</td>\n",
              "      <td>0.04</td>\n",
              "      <td>0.0</td>\n",
              "      <td>0.00</td>\n",
              "      <td>0.0</td>\n",
              "      <td>-1</td>\n",
              "      <td>-1.0</td>\n",
              "      <td>E</td>\n",
              "      <td>0.04</td>\n",
              "    </tr>\n",
              "  </tbody>\n",
              "</table>\n",
              "</div>"
            ],
            "text/plain": [
              "                                      name platform  year_of_release   genre  \\\n",
              "15957  Strongest Tokyo University Shogi DS       DS             1985  Action   \n",
              "13463                    Cocoto Kart Racer       DS             2004  Racing   \n",
              "\n",
              "       na_sales  eu_sales  jp_sales  other_sales  critic_score  user_score  \\\n",
              "15957      0.00       0.0      0.02          0.0            -1        -1.0   \n",
              "13463      0.04       0.0      0.00          0.0            -1        -1.0   \n",
              "\n",
              "            rating  all_sales  \n",
              "15957  не доступно       0.02  \n",
              "13463            E       0.04  "
            ]
          },
          "execution_count": 37,
          "metadata": {},
          "output_type": "execute_result"
        }
      ],
      "source": [
        "#отсортируем эту платформу по году выпуска\n",
        "df[df['platform'] == 'DS'].sort_values (by='year_of_release').head(2)"
      ]
    },
    {
      "cell_type": "markdown",
      "metadata": {
        "id": "Gxy1phRGaHEG"
      },
      "source": [
        "Платформа DS появилась на рынке в 2004 году, значит игра Strongest Tokyo University Shogi DS не имеет к ней отношения. Избавимся от нее."
      ]
    },
    {
      "cell_type": "code",
      "execution_count": null,
      "metadata": {
        "id": "du4eMi4IaYDZ"
      },
      "outputs": [],
      "source": [
        "df.drop(df[df['name']=='Strongest Tokyo University Shogi DS'].index, inplace=True)"
      ]
    },
    {
      "cell_type": "code",
      "execution_count": null,
      "metadata": {
        "id": "nxbseLe8dJdz"
      },
      "outputs": [],
      "source": [
        "#построим очищенный датасет\n",
        "df_top7_clean = df[df['platform'].isin(platform_sales_top['platform'])]\n"
      ]
    },
    {
      "cell_type": "code",
      "execution_count": null,
      "metadata": {
        "colab": {
          "base_uri": "https://localhost:8080/",
          "height": 291
        },
        "id": "jBksfzZpoH-x",
        "outputId": "1502bf30-4413-45df-c53d-1fa66e025b18"
      },
      "outputs": [
        {
          "data": {
            "text/html": [
              "<div>\n",
              "<style scoped>\n",
              "    .dataframe tbody tr th:only-of-type {\n",
              "        vertical-align: middle;\n",
              "    }\n",
              "\n",
              "    .dataframe tbody tr th {\n",
              "        vertical-align: top;\n",
              "    }\n",
              "\n",
              "    .dataframe thead th {\n",
              "        text-align: right;\n",
              "    }\n",
              "</style>\n",
              "<table border=\"1\" class=\"dataframe\">\n",
              "  <thead>\n",
              "    <tr style=\"text-align: right;\">\n",
              "      <th></th>\n",
              "      <th>platform</th>\n",
              "      <th>lifespan</th>\n",
              "    </tr>\n",
              "  </thead>\n",
              "  <tbody>\n",
              "    <tr>\n",
              "      <th>2</th>\n",
              "      <td>PS2</td>\n",
              "      <td>11</td>\n",
              "    </tr>\n",
              "    <tr>\n",
              "      <th>6</th>\n",
              "      <td>X360</td>\n",
              "      <td>11</td>\n",
              "    </tr>\n",
              "    <tr>\n",
              "      <th>3</th>\n",
              "      <td>PS3</td>\n",
              "      <td>10</td>\n",
              "    </tr>\n",
              "    <tr>\n",
              "      <th>5</th>\n",
              "      <td>Wii</td>\n",
              "      <td>10</td>\n",
              "    </tr>\n",
              "    <tr>\n",
              "      <th>0</th>\n",
              "      <td>DS</td>\n",
              "      <td>9</td>\n",
              "    </tr>\n",
              "    <tr>\n",
              "      <th>1</th>\n",
              "      <td>PS</td>\n",
              "      <td>9</td>\n",
              "    </tr>\n",
              "    <tr>\n",
              "      <th>4</th>\n",
              "      <td>PS4</td>\n",
              "      <td>3</td>\n",
              "    </tr>\n",
              "  </tbody>\n",
              "</table>\n",
              "</div>"
            ],
            "text/plain": [
              "  platform  lifespan\n",
              "2      PS2        11\n",
              "6     X360        11\n",
              "3      PS3        10\n",
              "5      Wii        10\n",
              "0       DS         9\n",
              "1       PS         9\n",
              "4      PS4         3"
            ]
          },
          "execution_count": 40,
          "metadata": {},
          "output_type": "execute_result"
        }
      ],
      "source": [
        "#еще раз найдем жизненный цикл, теперь уже без аномалии\n",
        "lifespans_clean = (df_top7_clean.groupby('platform')['year_of_release'].max()-\n",
        "             df_top7_clean.groupby('platform')['year_of_release'].min()).reset_index()\n",
        "lifespans_clean.rename(columns={'year_of_release': 'lifespan'}, inplace=True)\n",
        "lifespans_clean.sort_values(by='lifespan', ascending=False).head(7)"
      ]
    },
    {
      "cell_type": "code",
      "execution_count": null,
      "metadata": {
        "colab": {
          "base_uri": "https://localhost:8080/",
          "height": 453
        },
        "id": "ukPdZie8odLu",
        "outputId": "7ea491ef-33cf-4d65-e79d-063c40e427ac"
      },
      "outputs": [
        {
          "data": {
            "image/png": "[encoded data removed]",
            "text/plain": [
              "<Figure size 1008x432 with 1 Axes>"
            ]
          },
          "metadata": {
            "needs_background": "light"
          },
          "output_type": "display_data"
        }
      ],
      "source": [
        "#снова построим графики\n",
        "df_top7_clean.groupby(['year_of_release', 'platform'])['all_sales'].sum().unstack().plot(\n",
        "    linewidth=3, figsize=(14, 6));\n",
        "plt.title('Динамика продаж игр в 1980-2016 гг. \\n (семь наиболее популярных платформ)', fontsize=18);\n",
        "plt.xlabel('год', fontsize=14)\n",
        "plt.ylabel('продажи, млн копий', fontsize=14);"
      ]
    },
    {
      "cell_type": "markdown",
      "metadata": {
        "id": "YyK-ujHaxOv7"
      },
      "source": [
        "Из наших вычислений и на графике видно, что средняя жизнь платформы - 10 лет. PS4 выбивается из этой картины, с продолжительнотью 3 года, но это новая платформа, ее жизненный цикл еще не окончен. Для нашего анализа нам нужно выбрать актуальный период, который поможет построить прогноз на 2017 год. Взглянем поближе на данные за 2010-2016 годы."
      ]
    },
    {
      "cell_type": "code",
      "execution_count": null,
      "metadata": {
        "id": "rLXFDGwqvFeN"
      },
      "outputs": [],
      "source": [
        "df_recent_years = df_top7_clean.query('year_of_release >= 2010')"
      ]
    },
    {
      "cell_type": "markdown",
      "metadata": {
        "id": "9WrhQHgP74Xd"
      },
      "source": [
        "<div class=\"alert alert-success\">\n",
        "<b>ОТЛИЧНО! 👍</b>\n",
        "\n",
        "Очень хорошо, что результат запроса ты присваиваешь новому датафрейму. Таким образом оригинальный датафрейм ты оставляешь нетронутым, не перезаписываешь (вдруг нам опять понадобятся данные из него чуть ниже). Это верное решение. Best practice. Молодец!</div>\n"
      ]
    },
    {
      "cell_type": "code",
      "execution_count": null,
      "metadata": {
        "colab": {
          "base_uri": "https://localhost:8080/",
          "height": 453
        },
        "id": "Wnq5XJu5vYHc",
        "outputId": "2768b33e-c233-492f-8d45-d3eb3ee182ad"
      },
      "outputs": [
        {
          "data": {
            "image/png": "[encoded data removed]",
            "text/plain": [
              "<Figure size 1008x432 with 1 Axes>"
            ]
          },
          "metadata": {
            "needs_background": "light"
          },
          "output_type": "display_data"
        }
      ],
      "source": [
        "df_recent_years.groupby(['year_of_release', 'platform'])['all_sales'].sum().unstack().plot(\n",
        "    linewidth=3, figsize=(14, 6));\n",
        "plt.title('Динамика продаж игр в 2010-2016 гг. \\n (семь наиболее популярных платформ)', fontsize=18);\n",
        "plt.xlabel('год', fontsize=14)\n",
        "plt.ylabel('продажи, млн копий', fontsize=14);"
      ]
    },
    {
      "cell_type": "markdown",
      "metadata": {
        "id": "KxnyicvYyetK"
      },
      "source": [
        "Здесь видно, что основные популярные платформы завершают свой жизненный цикл: одни имеют некоторые пики активности (PS3 и X360), другие явно просели в продажах (Wii, DS, PS2). Только одна платформа PS4 начала свой жизненный цикл в 2013 году и достигла пика в 2015. Для построения прогноза на 2017 год думаю будет достаточно периода 2014-2016, поскольку эти годы с одной стороны самые недавние, с другой -- на них достаточно видны очевидные тренды -- угасание одних платформ и появление других."
      ]
    },
    {
      "cell_type": "code",
      "execution_count": null,
      "metadata": {
        "id": "21yyMo5q0u6N"
      },
      "outputs": [],
      "source": [
        "df_final = df_top7_clean.query('year_of_release >= 2014')\n"
      ]
    },
    {
      "cell_type": "markdown",
      "metadata": {
        "id": "DFZU5gJX74Xf"
      },
      "source": [
        "<div class=\"alert alert-success\">\n",
        "<b>ОТЛИЧНО! 👍</b>\n",
        "\n",
        "Правильный выбор диапазона!\n",
        "\n",
        "Это на самом деле один из подводных камней этого проекта! \n",
        "Студенты могут выбирать для анализа очень большой интервал данных, но для целей прогнозирования продаж на следующий год даже в традиционных бизнесах редко берут данные более чем за 2-3 года. А в такой динамично меняющейся индустрии, как компьютерные игры и вовсе не стоит брать слишком большой временной интервал - иначе обязательно захватишь уже отжившие тренды. В нашем случае (я с тобой согласен) думаю, что 3 года: 2014 - 2015 + неполный 2016 - ОК.</div>\n"
      ]
    },
    {
      "cell_type": "code",
      "execution_count": null,
      "metadata": {
        "colab": {
          "base_uri": "https://localhost:8080/",
          "height": 453
        },
        "id": "rxz1hFbcgA9n",
        "outputId": "5a4aa71d-a178-48ee-ac9a-7d64a9296753"
      },
      "outputs": [
        {
          "data": {
            "image/png": "[encoded data removed]",
            "text/plain": [
              "<Figure size 1008x432 with 1 Axes>"
            ]
          },
          "metadata": {
            "needs_background": "light"
          },
          "output_type": "display_data"
        }
      ],
      "source": [
        "df_final.groupby(['year_of_release', 'platform'])['all_sales'].sum().unstack().plot(\n",
        "    linewidth=3, figsize=(14, 6));\n",
        "plt.title('Динамика продаж игр в 2014-2016 гг. \\n (семь наиболее популярных платформ)', fontsize=18);\n",
        "plt.xlabel('год', fontsize=14)\n",
        "plt.ylabel('продажи, млн копий', fontsize=14);"
      ]
    },
    {
      "cell_type": "markdown",
      "metadata": {
        "id": "6jZaVqzIhLLW"
      },
      "source": [
        "В этот период видно, что у Wii стабильно низкие продажи. PS3 и X360 имея продажи около 40-50 млн копий в 2014 в два раза снизили свои продажи к 2015 и стремятся к нулю к 2016. PS4 -- самая перспективная платформа из всех представленных с более чем 110 млн копий в 2015."
      ]
    },
    {
      "cell_type": "markdown",
      "metadata": {
        "id": "EeeyUi9AiZ9e"
      },
      "source": [
        "#### Шаг 3.3 Построим график «ящик с усами» по глобальным продажам игр в разбивке по платформам.\n"
      ]
    },
    {
      "cell_type": "code",
      "execution_count": null,
      "metadata": {
        "colab": {
          "base_uri": "https://localhost:8080/",
          "height": 57
        },
        "id": "iGt-Es9WvmPA",
        "outputId": "e1e58dae-f274-490f-9180-3121936641d0"
      },
      "outputs": [
        {
          "data": {
            "text/plain": [
              "\"df_final.boxplot(column='all_sales', by='platform')\\ndf_final.boxplot(column='all_sales', by='platform', showfliers=False)\""
            ]
          },
          "execution_count": 46,
          "metadata": {},
          "output_type": "execute_result"
        }
      ],
      "source": [
        "df_boxplot = [df_final[df_final['platform'] == 'PS3']['all_sales'],\n",
        "              df_final[df_final['platform'] == 'PS4']['all_sales'],\n",
        "              df_final[df_final['platform'] == 'Wii']['all_sales'],\n",
        "              df_final[df_final['platform'] == 'X360']['all_sales']]\n",
        "\n",
        "'''df_final.boxplot(column='all_sales', by='platform')\n",
        "df_final.boxplot(column='all_sales', by='platform', showfliers=False)'''"
      ]
    },
    {
      "cell_type": "code",
      "execution_count": null,
      "metadata": {
        "colab": {
          "base_uri": "https://localhost:8080/",
          "height": 533
        },
        "id": "iq73EFinABto",
        "outputId": "fb5b5d19-c6a1-4a3f-9ef1-73f7702a43a4"
      },
      "outputs": [
        {
          "data": {
            "text/plain": [
              "Text(0, 0.5, 'млн.копий')"
            ]
          },
          "execution_count": 47,
          "metadata": {},
          "output_type": "execute_result"
        },
        {
          "data": {
            "image/png": "[encoded data removed]",
            "text/plain": [
              "<Figure size 1440x432 with 2 Axes>"
            ]
          },
          "metadata": {
            "needs_background": "light"
          },
          "output_type": "display_data"
        }
      ],
      "source": [
        "fig, (ax1, ax2) = plt.subplots(1, 2, figsize=(20, 6))#1 ряд, 2 диаграммы\n",
        "\n",
        "df_final.boxplot(column='all_sales', by='platform', ax=ax1, fontsize=16)\n",
        "ax1.set_title('Диаграмма размаха с выбросами', fontsize=18)\n",
        "ax1.set_ylabel('млн.копий')\n",
        "\n",
        "#диаграмма размаха без выбросов\n",
        "df_final.boxplot(column='all_sales', by='platform', showfliers=False, ax=ax2, fontsize=16)\n",
        "ax2.set_title('Диаграмма размаха без выбросов', fontsize=18)\n",
        "ax2.set_ylabel('млн.копий')"
      ]
    },
    {
      "cell_type": "markdown",
      "metadata": {
        "id": "wUYt2kDr74Xi"
      },
      "source": [
        "<div class=\"alert alert-success\">\n",
        "<b>ОТЛИЧНО! 👍</b>\n",
        "\n",
        "Это хорошо! Часто студенты рисуют только график с боксплотами, на которых видны выбросы, а сами \"ящики\" сплющиваются так, что квартилей не разобрать. Бывает ситуация, когда наоборот, только \"ящики\" видно детально, но непонятно какие выбросы по платформам. И очень редка ситуация, когда рисуют и тот график и другой, предоставляя всю, полную информацию (с разных перспектив), необходимую для полного анализа. Молодец!</div>"
      ]
    },
    {
      "cell_type": "code",
      "execution_count": null,
      "metadata": {
        "colab": {
          "base_uri": "https://localhost:8080/",
          "height": 663
        },
        "id": "VdL2VmRwnoMN",
        "outputId": "ef90e6c7-7ea9-481f-8225-ed3629140976"
      },
      "outputs": [
        {
          "data": {
            "image/png": "[encoded data removed]",
            "text/plain": [
              "<Figure size 1080x720 with 1 Axes>"
            ]
          },
          "metadata": {
            "needs_background": "light"
          },
          "output_type": "display_data"
        }
      ],
      "source": [
        "#диаграмма размаха в цвете\n",
        "\n",
        "fig = plt.figure(figsize =(15, 10))\n",
        "ax = fig.add_subplot(111)\n",
        "# Creating axes instance\n",
        "bp = ax.boxplot(df_boxplot, patch_artist = True,\n",
        "                notch ='True', vert = 0)\n",
        " \n",
        "colors = ['#0000FF', '#00FF00',\n",
        "          '#FFFF00', '#FF00FF']\n",
        " \n",
        "for patch, color in zip(bp['boxes'], colors):\n",
        "    patch.set_facecolor(color)\n",
        " \n",
        "# changing color and linewidth of\n",
        "# whiskers\n",
        "for whisker in bp['whiskers']:\n",
        "    whisker.set(color ='#8B008B',\n",
        "                linewidth = 1.5,\n",
        "                linestyle =\":\")\n",
        " \n",
        "# changing color and linewidth of\n",
        "# caps\n",
        "for cap in bp['caps']:\n",
        "    cap.set(color ='#8B008B',\n",
        "            linewidth = 2)\n",
        " \n",
        "# changing color and linewidth of\n",
        "# medians\n",
        "for median in bp['medians']:\n",
        "    median.set(color ='red',\n",
        "               linewidth = 3)\n",
        " \n",
        "# changing style of fliers\n",
        "for flier in bp['fliers']:\n",
        "    flier.set(marker ='D',\n",
        "              color ='#e7298a',\n",
        "              alpha = 0.5)\n",
        "\n",
        "#x-axis labels    \n",
        "ax.set_yticklabels(['PS3', 'PS4',\n",
        "                    'Wii', 'X360'])\n",
        "\n",
        "# Adding title\n",
        "plt.title(\"Customized box plot\")\n",
        "\n",
        "# Removing top axes and right axes\n",
        "# ticks\n",
        "ax.get_xaxis().tick_bottom()\n",
        "ax.get_yaxis().tick_left()\n"
      ]
    },
    {
      "cell_type": "markdown",
      "metadata": {
        "id": "WOBBl_wL74Xk"
      },
      "source": [
        "<div class=\"alert alert-warning\">\n",
        "<b>Комментарий 👉</b>\n",
        "\n",
        "К сожалению, на этом графике видны только выбросы, и совсем не видны медиана и 25ый и 75ый квартили. Для более обоснованных выводов нужно сделать дополнительный график, где будет отображена только нижняя часть boxplot-ов. Этого можно добиться, например, задав параметр хlim\n",
        "\n",
        "То есть, я бы предложил после этого графика ещё один построить, в котором бы сами \"ящики\" были лучше видны. На том, что выше выбросы их фактически \"забили\". Попробуй использовать в параметре хlim, значение, которое ещё больше ограничит значение по OХ \"сверху\" (например, хlim(0, 0.85).\n",
        "\n",
        "Ну а в твоем случае, из-за того, что на графике не разобрать квартили - для точного сравнения \"ящиков\" мы вынуждены будем использовать describe().</div>\n"
      ]
    },
    {
      "cell_type": "markdown",
      "metadata": {
        "id": "Q_yIA8Vg74Xk"
      },
      "source": [
        "<div class=\"alert alert-warning\">\n",
        "<b>Комментарий 👉</b>\n",
        "\n",
        "Елена - посмотри в сторону графической библиотеки seaborn. Сейчас она один из неформальных лидеров в области визуализации данных (вместе с plotly). В чем её преимущество по сравнению с Матплотлиб спросишь ты? Я бы сразу ответил - в немногословности. Посмотри мой код ниже - аналогичные \"ящики с усами\" в цвете она делает гораздо проще и лаконичнее.</div>"
      ]
    },
    {
      "cell_type": "code",
      "execution_count": null,
      "metadata": {
        "id": "GtVfLCgy74Xm",
        "outputId": "2de29857-9257-410e-8691-b9b859ed6208"
      },
      "outputs": [
        {
          "data": {
            "image/png": "[encoded data removed]",
            "text/plain": [
              "<Figure size 1440x720 with 1 Axes>"
            ]
          },
          "metadata": {
            "needs_background": "light"
          },
          "output_type": "display_data"
        }
      ],
      "source": [
        "import seaborn as sns\n",
        "\n",
        "plt.figure(figsize=(20, 10))\n",
        "\n",
        "sns.boxplot(data=df_final, x='platform', y='all_sales')\n",
        "\n",
        "plt.ylim(0, 0.85)\n",
        "\n",
        "plt.xlabel('Платформы')\n",
        "plt.ylabel('Продажи, млн. копий')\n",
        "plt.title('«Ящики с усами» по глобальным продажам игр, в разбивке по платформам')\n",
        "\n",
        "plt.show()"
      ]
    },
    {
      "cell_type": "code",
      "execution_count": null,
      "metadata": {
        "id": "SzS4DqzF74Xo",
        "outputId": "5f754a43-594c-4ded-8c8e-946718725fa9"
      },
      "outputs": [
        {
          "name": "stdout",
          "output_type": "stream",
          "text": [
            "-1.0    9\n",
            " 8.4    1\n",
            " 4.3    1\n",
            "Name: user_score, dtype: int64\n",
            "-1    11\n",
            "Name: critic_score, dtype: int64\n"
          ]
        }
      ],
      "source": [
        "# df_final['platform'].unique()\n",
        "# df_wii = df_final.query('platform == \"Wii\"')\n",
        "# print(df_wii['user_score'].value_counts())\n",
        "# print(df_wii['critic_score'].value_counts())"
      ]
    },
    {
      "cell_type": "markdown",
      "metadata": {
        "id": "T6oj6xtf1I6c"
      },
      "source": [
        "По диаграммам размаха видно, что медианные продажи для всех платформ составляют ок. 200 тыс. копий в год (кроме PS3, которая завершает свой жизненный цикл). Выбросы говорят о небольшом количестве игр с очень большими продажами, которые и определяют лидирующую позицию этих платформ на рынке. Особенно много таких успешных игр у PS4."
      ]
    },
    {
      "cell_type": "markdown",
      "metadata": {
        "id": "mVuV7I8z3jlF"
      },
      "source": [
        "#### Шаг 3.4 Посмотрим, как влияют на продажи внутри одной популярной платформы отзывы пользователей и критиков. \n",
        "Построим диаграмму рассеяния и посчитаем корреляцию между отзывами и продажами."
      ]
    },
    {
      "cell_type": "code",
      "execution_count": null,
      "metadata": {
        "colab": {
          "base_uri": "https://localhost:8080/",
          "height": 1000
        },
        "id": "f90CCi083MnA",
        "outputId": "88c5c0b7-17ee-45ff-9dd8-bcc737986b30"
      },
      "outputs": [
        {
          "data": {
            "text/plain": [
              "array([[<AxesSubplot:xlabel='all_sales', ylabel='all_sales'>,\n",
              "        <AxesSubplot:xlabel='critic_score', ylabel='all_sales'>,\n",
              "        <AxesSubplot:xlabel='user_score', ylabel='all_sales'>],\n",
              "       [<AxesSubplot:xlabel='all_sales', ylabel='critic_score'>,\n",
              "        <AxesSubplot:xlabel='critic_score', ylabel='critic_score'>,\n",
              "        <AxesSubplot:xlabel='user_score', ylabel='critic_score'>],\n",
              "       [<AxesSubplot:xlabel='all_sales', ylabel='user_score'>,\n",
              "        <AxesSubplot:xlabel='critic_score', ylabel='user_score'>,\n",
              "        <AxesSubplot:xlabel='user_score', ylabel='user_score'>]],\n",
              "      dtype=object)"
            ]
          },
          "execution_count": 51,
          "metadata": {},
          "output_type": "execute_result"
        },
        {
          "data": {
            "image/png": "[encoded data removed]",
            "text/plain": [
              "<Figure size 1080x1080 with 9 Axes>"
            ]
          },
          "metadata": {
            "needs_background": "light"
          },
          "output_type": "display_data"
        }
      ],
      "source": [
        "#построим диаграмму рассеяния для платформы PS3\n",
        "df_final_ps3 = df_final[df_final['platform'] == 'PS3']#отсортируем df_final по платформе\n",
        "df_ps3 = df_final_ps3.query('critic_score != -1 and user_score != -1')#отсортируем по значениям не равным -1\n",
        "df_ps3_matrix = df_ps3[['all_sales', 'critic_score', 'user_score']]#построим диаграмму рассеяния\n",
        "pd.plotting.scatter_matrix(df_ps3_matrix, figsize=(15, 15))"
      ]
    },
    {
      "cell_type": "markdown",
      "metadata": {
        "id": "d4QxfsuS74Xv"
      },
      "source": [
        "<div class=\"alert alert-success\">\n",
        "<b>ОТЛИЧНО! 👍</b>\n",
        "\n",
        "Молодец! Используя (user_score != -1) and (critic_score != -1) ты даешь мне понять, что не забыл, то, что заполнял пропуски \"минус единичкой\" в оценках критиков и пользователей. Очень грамотно!</div>\n"
      ]
    },
    {
      "cell_type": "code",
      "execution_count": null,
      "metadata": {
        "colab": {
          "base_uri": "https://localhost:8080/",
          "height": 164
        },
        "id": "Bzb39eQ3_jJZ",
        "outputId": "cb5e6a76-e6c8-49b6-d693-82af2a80f1e5"
      },
      "outputs": [
        {
          "data": {
            "text/html": [
              "<div>\n",
              "<style scoped>\n",
              "    .dataframe tbody tr th:only-of-type {\n",
              "        vertical-align: middle;\n",
              "    }\n",
              "\n",
              "    .dataframe tbody tr th {\n",
              "        vertical-align: top;\n",
              "    }\n",
              "\n",
              "    .dataframe thead th {\n",
              "        text-align: right;\n",
              "    }\n",
              "</style>\n",
              "<table border=\"1\" class=\"dataframe\">\n",
              "  <thead>\n",
              "    <tr style=\"text-align: right;\">\n",
              "      <th></th>\n",
              "      <th>all_sales</th>\n",
              "      <th>critic_score</th>\n",
              "      <th>user_score</th>\n",
              "    </tr>\n",
              "  </thead>\n",
              "  <tbody>\n",
              "    <tr>\n",
              "      <th>all_sales</th>\n",
              "      <td>1.000000</td>\n",
              "      <td>0.446575</td>\n",
              "      <td>0.156595</td>\n",
              "    </tr>\n",
              "    <tr>\n",
              "      <th>critic_score</th>\n",
              "      <td>0.446575</td>\n",
              "      <td>1.000000</td>\n",
              "      <td>0.693445</td>\n",
              "    </tr>\n",
              "    <tr>\n",
              "      <th>user_score</th>\n",
              "      <td>0.156595</td>\n",
              "      <td>0.693445</td>\n",
              "      <td>1.000000</td>\n",
              "    </tr>\n",
              "  </tbody>\n",
              "</table>\n",
              "</div>"
            ],
            "text/plain": [
              "              all_sales  critic_score  user_score\n",
              "all_sales      1.000000      0.446575    0.156595\n",
              "critic_score   0.446575      1.000000    0.693445\n",
              "user_score     0.156595      0.693445    1.000000"
            ]
          },
          "execution_count": 52,
          "metadata": {},
          "output_type": "execute_result"
        }
      ],
      "source": [
        "#найдем коэффициент корреляции для всех пар столбцов\n",
        "df_ps3_matrix.corr()"
      ]
    },
    {
      "cell_type": "markdown",
      "metadata": {
        "id": "aC3U-v1u8WQL"
      },
      "source": [
        "По диаграмме и значениям коэффициента корреляции видно, что связи между оценками пользователей продажами игр практически нет. Коэф. корреляции низкий - 0.15. В то время, как связь между продажами и оценками экспертов для всех платформ является прямой, средней степени выраженности (коэффициент 0,44)."
      ]
    },
    {
      "cell_type": "markdown",
      "metadata": {
        "id": "PkLLzxm574Xw"
      },
      "source": [
        "<div class=\"alert alert-warning\">\n",
        "<b>Комментарий 👉</b>\n",
        "\n",
        "Елена, формулировать, что коэффициент (линейной) корреляции (Пирсона) между 2 переменными (в нашем случае между \"total_sales\" и \"critic_score\") \"это влияние чего-то на что-то\" - неверно. \n",
        "    \n",
        "Коэффициент свидетельствует **о наличии или отсутствии** связи между переменными, и **измеряет выраженность** этой связи. Другими словами, коэффициент корреляции - это инструмент, с помощью которого можно проверить гипотезу о зависимости и измерить силу **линейной** зависимости двух переменных.\n",
        "    \n",
        "Например, в нашем случае, связь между продажами и оценками экспертов для всех платформ является **прямой, средней** степени выраженности (коэффициент 0,44).</div>\n"
      ]
    },
    {
      "cell_type": "markdown",
      "metadata": {
        "id": "9G2OfwcNC9R_"
      },
      "source": [
        "#### Шаг 3.5 Найдем коэффициенты корреляции по продажам игр и отзывам для остальных платформ, кроме PS3.\n"
      ]
    },
    {
      "cell_type": "code",
      "execution_count": null,
      "metadata": {
        "colab": {
          "base_uri": "https://localhost:8080/",
          "height": 164
        },
        "id": "kU5Wuo2rMWdJ",
        "outputId": "cf991fa5-1cf1-4878-aebf-b8bb4a318c73"
      },
      "outputs": [
        {
          "data": {
            "text/html": [
              "<div>\n",
              "<style scoped>\n",
              "    .dataframe tbody tr th:only-of-type {\n",
              "        vertical-align: middle;\n",
              "    }\n",
              "\n",
              "    .dataframe tbody tr th {\n",
              "        vertical-align: top;\n",
              "    }\n",
              "\n",
              "    .dataframe thead th {\n",
              "        text-align: right;\n",
              "    }\n",
              "</style>\n",
              "<table border=\"1\" class=\"dataframe\">\n",
              "  <thead>\n",
              "    <tr style=\"text-align: right;\">\n",
              "      <th></th>\n",
              "      <th>all_sales</th>\n",
              "      <th>critic_score</th>\n",
              "      <th>user_score</th>\n",
              "    </tr>\n",
              "  </thead>\n",
              "  <tbody>\n",
              "    <tr>\n",
              "      <th>all_sales</th>\n",
              "      <td>1.000000</td>\n",
              "      <td>0.399038</td>\n",
              "      <td>-0.015340</td>\n",
              "    </tr>\n",
              "    <tr>\n",
              "      <th>critic_score</th>\n",
              "      <td>0.399038</td>\n",
              "      <td>1.000000</td>\n",
              "      <td>0.567938</td>\n",
              "    </tr>\n",
              "    <tr>\n",
              "      <th>user_score</th>\n",
              "      <td>-0.015340</td>\n",
              "      <td>0.567938</td>\n",
              "      <td>1.000000</td>\n",
              "    </tr>\n",
              "  </tbody>\n",
              "</table>\n",
              "</div>"
            ],
            "text/plain": [
              "              all_sales  critic_score  user_score\n",
              "all_sales      1.000000      0.399038   -0.015340\n",
              "critic_score   0.399038      1.000000    0.567938\n",
              "user_score    -0.015340      0.567938    1.000000"
            ]
          },
          "execution_count": 53,
          "metadata": {},
          "output_type": "execute_result"
        }
      ],
      "source": [
        "df_platforms = df_final.query('critic_score != -1 \\\n",
        "                              and user_score != -1 \\\n",
        "                              and platform != \"PS3\"')\n",
        "df_platforms_matrix = df_platforms[['all_sales', 'critic_score', 'user_score']]\n",
        "df_platforms_matrix.corr()"
      ]
    },
    {
      "cell_type": "markdown",
      "metadata": {
        "id": "NPLeXbKR74Xy"
      },
      "source": [
        "<div class=\"alert alert-danger\">\n",
        "<b>Необходимо исправить ❌</b>\n",
        "\n",
        "По условию задачи надо сравнить результаты PS3 (то, что сделано выше) с результатами на других консолях. Но ты берешь всю таблицу, со всеми прочими консолями, в том числе и с PS3. Это не соответствует условию. Рассмотри пару консолей **отдельно друг от друга**. Выводы, сделанные на основе расчетов по нескольким платформам, выглядят \"весомей\" и убедительней.</div>\n"
      ]
    },
    {
      "cell_type": "markdown",
      "metadata": {
        "id": "23Tq6cfu74Xy"
      },
      "source": [
        "<div style=\"background: #B0E0E6; padding: 5px; border: 1px solid SteelBlue; border-radius: 5px;\">\n",
        "    <font color='4682B4'><u><b>КОММЕНТАРИЙ СТУДЕНТА</b></u></font>\n",
        "    <br />\n",
        "    <font color='4682B4'>Спасибо, исправила ...</font>\n",
        "</div>"
      ]
    },
    {
      "cell_type": "code",
      "execution_count": null,
      "metadata": {
        "id": "-KE9rLS574Xy",
        "outputId": "b34c416b-8bf9-4d67-a556-aa8755f538da"
      },
      "outputs": [
        {
          "data": {
            "text/plain": [
              "array(['PS4', 'X360'], dtype=object)"
            ]
          },
          "execution_count": 54,
          "metadata": {},
          "output_type": "execute_result"
        }
      ],
      "source": [
        "df_platforms['platform'].unique()"
      ]
    },
    {
      "cell_type": "markdown",
      "metadata": {
        "id": "FEXX-AKCFODj"
      },
      "source": [
        "По остальным топ-платформам (а убрав PS3, у нас остались только две платформы: PS4 и Х360) коэффициенты корреляции немного отличаются от одной PS3. Здесь видно, что связь между оценками пользователей и продажами еще меньше. Коэф.корреляции незначительный -- -0.01, что говорит о низкой степени выраженности. Коэф.корреляции для оценки критиков -- 0.39. Это значение чуть меньше, чем для одной платформы PS3, т.е связь  между продажами и оценками экспертов для всех платформ является прямой, средней степени выраженности."
      ]
    },
    {
      "cell_type": "markdown",
      "metadata": {
        "id": "d7i8hR-PBSgk"
      },
      "source": [
        "#### Шаг 3.6 Посмотрим на общее распределение игр по жанрам. \n",
        "Что можно сказать о самых прибыльных жанрах? Выделяются ли жанры с высокими и низкими продажами?"
      ]
    },
    {
      "cell_type": "code",
      "execution_count": null,
      "metadata": {
        "colab": {
          "base_uri": "https://localhost:8080/"
        },
        "id": "Og1Uh9LiMdHA",
        "outputId": "887c9e09-0b06-46f9-988e-d362ca245d10"
      },
      "outputs": [
        {
          "data": {
            "text/plain": [
              "Action          260\n",
              "Sports           98\n",
              "Role-Playing     85\n",
              "Shooter          67\n",
              "Adventure        61\n",
              "Misc             41\n",
              "Fighting         39\n",
              "Racing           34\n",
              "Platform         14\n",
              "Simulation       10\n",
              "Strategy          6\n",
              "Puzzle            2\n",
              "Name: genre, dtype: int64"
            ]
          },
          "execution_count": 55,
          "metadata": {},
          "output_type": "execute_result"
        }
      ],
      "source": [
        "#найдем количество значений для каждого жанра\n",
        "df_final['genre'].value_counts()"
      ]
    },
    {
      "cell_type": "code",
      "execution_count": null,
      "metadata": {
        "colab": {
          "base_uri": "https://localhost:8080/",
          "height": 460
        },
        "id": "wXSL3-WDCDk-",
        "outputId": "08c619f0-2c4b-41b4-db56-a5b00d721ddd"
      },
      "outputs": [
        {
          "data": {
            "image/png": "[encoded data removed]",
            "text/plain": [
              "<Figure size 1008x432 with 1 Axes>"
            ]
          },
          "metadata": {
            "needs_background": "light"
          },
          "output_type": "display_data"
        }
      ],
      "source": [
        "#построим график зависимости медианных продаж от жанра\n",
        "df_final.groupby('genre')['all_sales'].median().sort_values(ascending=False).plot.bar(figsize=(14, 6));"
      ]
    },
    {
      "cell_type": "markdown",
      "metadata": {
        "id": "ZwWF9tOCJOGY"
      },
      "source": [
        "По графику видно, что самые прибыльные -- это игры с жанрами Shooter, Sports и Simulation. "
      ]
    },
    {
      "cell_type": "markdown",
      "metadata": {
        "id": "nIMHKCZ474X2"
      },
      "source": [
        "<div class=\"alert alert-success\">\n",
        "<b>ОК 👍</b>\n",
        "\n",
        "Елена, отлично что ты понимаешь, что общие продажи - это не очень корректная метрика для поиска наиболее прибыльного жанра. За высокими показателями общих продаж может скрываться множество мелких игр с низкими продажами. Или 2-3 звезды и куча провалов. Лучше найти жанр, где игры стабильно приносят высокий доход - для этого стоит рассмотреть средние (или медианные продажи), что собственно ты и делаешь!</div>\n"
      ]
    },
    {
      "cell_type": "markdown",
      "metadata": {
        "id": "QyHK_Wa_OYib"
      },
      "source": [
        "### Вывод 3."
      ]
    },
    {
      "cell_type": "markdown",
      "metadata": {
        "id": "2ThH049wOdsn"
      },
      "source": [
        "В этом разделе:\n",
        " - мы изучили, сколько игр выпускалось за разные годы и выяснили, что больше всего игр выпускалось в 2008 и 2009 годах. В период до 1995 года выходило очень мало игр. \n",
        " - изучили, как менялись продажи по платформам. Выбрали топ-7 платформ с наибольшими суммарными продажами и построили распределение по годам. Выяснили, что средняя жизнь платформы - 10 лет. Выбрали актуальный период 2014-2016 годы.\n",
        " - построили график «ящик с усами» по глобальным продажам игр в разбивке по платформам. Выяснили, что медианные продажи для всех платформ составляют ок. 200 тыс. копий в год (кроме PS3, жизненный цикл которой завершается). Выбросы говорят о небольшом количестве игр с очень большими продажами, которые и определяют лидирующие позицию этих платформ на рынке. Особенно много таких успешных игр у PS4.\n",
        " - посмотрели, как влияют на продажи внутри одной популярной платформы отзывы пользователей и критиков. Построили диаграмму рассеяния и посчитали корреляцию между отзывами и продажами и выяснили, что связи между оценками пользователей и продажами игр практически нет. Коэф. корреляции низкий - 0.15. В то время, как связь между продажами и оценками экспертов для всех платформ является прямой, средней степени выраженности (коэффициент 0,44).\n",
        " - нашли коэффициенты корреляции по продажам игр и отзывам на других платформах, кроме PS3 и обнаружили, что по остальным 3 топ-платформам коэффициенты корреляции немного отличаются от одной PS3. Здесь видно, что связь между оценками пользователей и продажами еще меньше. Коэф.корреляции незначительный -- -0.01, что говорит о низкой степени выраженности. Коэф.корреляции для оценки критиков -- 0.39. Это значение чуть меньше, чем для одной платформы PS3, т.е связь  между продажами и оценками экспертов для всех платформ является прямой, средней степени выраженности. \n",
        " - посмотрели на общее распределение игр по жанрам и нашли, что самые прибыльные -- это игры с жанрами Shooter, Sports и Simulation.\n"
      ]
    },
    {
      "cell_type": "markdown",
      "metadata": {
        "id": "vc3vsOchRDsh"
      },
      "source": [
        "## 4. Портрет пользователя каждого региона\n"
      ]
    },
    {
      "cell_type": "markdown",
      "metadata": {
        "id": "k5OzVBuKRjsJ"
      },
      "source": [
        "#### 4.1 Определим для пользователя каждого региона (NA, EU, JP) самые популярные платформы (топ-5).\n",
        "\n"
      ]
    },
    {
      "cell_type": "code",
      "execution_count": null,
      "metadata": {
        "id": "guoCdJauR9OR"
      },
      "outputs": [],
      "source": [
        "#сгруппируем данные по платформе и суммарным продажам по каждому региону\n",
        "na_platform = df_final.groupby('platform')['na_sales'].sum()\n",
        "eu_platform = df_final.groupby('platform')['eu_sales'].sum()\n",
        "jp_platform = df_final.groupby('platform')['jp_sales'].sum()\n"
      ]
    },
    {
      "cell_type": "code",
      "execution_count": null,
      "metadata": {
        "colab": {
          "base_uri": "https://localhost:8080/",
          "height": 438
        },
        "id": "etWuU6vxyTnH",
        "outputId": "913abb0b-1171-4c7b-f9d5-ca81fe5a4a1a"
      },
      "outputs": [
        {
          "data": {
            "text/plain": [
              "Text(0.5, 0.98, 'Топ-4 платформы по числу проданных игр в 2014-2016 гг.')"
            ]
          },
          "execution_count": 58,
          "metadata": {},
          "output_type": "execute_result"
        },
        {
          "data": {
            "image/png": "[encoded data removed]",
            "text/plain": [
              "<Figure size 1440x432 with 3 Axes>"
            ]
          },
          "metadata": {},
          "output_type": "display_data"
        }
      ],
      "source": [
        "#построим круговые диаграммы для каждого региона.\n",
        "#в наш топ попали всего 4 платформы, поэтому строить диаграммы будем для четырех, а не для пяти.\n",
        "fig, (ax1, ax2, ax3) = plt.subplots(1, 3, figsize=(20, 6))#1 ряд, 3 диаграммы\n",
        "\n",
        "na_platform.plot(kind='pie', ax=ax1, subplots=True, autopct='%1.1f%%', fontsize=16, cmap='cool')\n",
        "ax1.set_title('Северная Америка', fontsize=18)\n",
        "ax1.set_ylabel('')\n",
        "\n",
        "eu_platform.plot(kind='pie', ax=ax2, subplots=True, autopct='%1.1f%%', fontsize=16, cmap='cool')\n",
        "ax2.set_title('Европа', fontsize=18)\n",
        "ax2.set_ylabel('')\n",
        "\n",
        "jp_platform.plot(kind='pie', ax=ax3, subplots=True, autopct='%1.1f%%', fontsize=16, cmap='cool')\n",
        "ax3.set_title('Япония', fontsize=18)\n",
        "ax3.set_ylabel('')\n",
        "\n",
        "plt.suptitle('Топ-4 платформы по числу проданных игр в 2014-2016 гг.', fontsize=20, fontweight='bold')"
      ]
    },
    {
      "cell_type": "markdown",
      "metadata": {
        "id": "cnnhUFWcJ470"
      },
      "source": [
        "Самая популярная платформа для всех регионов - PS4. На нее приходятся 65%, 75% и 57% продаж в каждом регионе соответственно. Это понятно, ведь предыдущий анализ показал, что эта платформа самая новая, а потому самая перспективная из всех. X360  более популярна в Америке, чем в Европе, она занимает 18% и 9% в этих регионах соответственно. В Японии игр этой платформы продается ничтожно мало - меньше 0.1%. На PS3 приходится примерно равное количество продаж в Америке и Европе (ок. 15%), а вот в Японии эта платформа на втором месте по популярности после PS4. Wii занимает ничтожную долю рынка в Америке и Европе, в то время, как в Японии она не представлена вовсе."
      ]
    },
    {
      "cell_type": "markdown",
      "metadata": {
        "id": "kaoLoqm1UYxh"
      },
      "source": [
        "#### 4.2 Определим самые популярные жанры (топ-5). \n"
      ]
    },
    {
      "cell_type": "code",
      "execution_count": null,
      "metadata": {
        "id": "RL0g7r_Y6qjJ"
      },
      "outputs": [],
      "source": [
        "#сгруппируем данные по жанру и продажам, отсортируем так, чтобы получить топ-5 значений\n",
        "genres_na = df_final.groupby('genre')['na_sales'].sum().sort_values(ascending=False).head()\n",
        "genres_eu = df_final.groupby('genre')['eu_sales'].sum().sort_values(ascending=False).head()\n",
        "genres_jp = df_final.groupby('genre')['jp_sales'].sum().sort_values(ascending=False).head()"
      ]
    },
    {
      "cell_type": "code",
      "execution_count": null,
      "metadata": {
        "colab": {
          "base_uri": "https://localhost:8080/",
          "height": 438
        },
        "id": "CgxL9Sbs61WB",
        "outputId": "1b20e6c0-e768-47c9-de47-9e726a310f78"
      },
      "outputs": [
        {
          "data": {
            "text/plain": [
              "Text(0.5, 0.98, 'Топ-5 жанров по числу проданных игр в 2014-2016 гг.')"
            ]
          },
          "execution_count": 60,
          "metadata": {},
          "output_type": "execute_result"
        },
        {
          "data": {
            "image/png": "[encoded data removed]",
            "text/plain": [
              "<Figure size 1440x432 with 3 Axes>"
            ]
          },
          "metadata": {},
          "output_type": "display_data"
        }
      ],
      "source": [
        "#построим круговые диаграммы для каждого региона\n",
        "fig, (ax1, ax2, ax3) = plt.subplots(1, 3, figsize=(20, 6))#1 ряд, 3 диаграммы\n",
        "\n",
        "genres_na.plot(kind='pie', ax=ax1, subplots=True, autopct='%1.1f%%', fontsize=16, cmap='cool')\n",
        "ax1.set_title('Северная Америка', fontsize=18)\n",
        "ax1.set_ylabel('')\n",
        "\n",
        "genres_eu.plot(kind='pie', ax=ax2, subplots=True, autopct='%1.1f%%', fontsize=16, cmap='cool')\n",
        "ax2.set_title('Европа', fontsize=18)\n",
        "ax2.set_ylabel('')\n",
        "\n",
        "genres_jp.plot(kind='pie', ax=ax3, subplots=True, autopct='%1.1f%%', fontsize=16, cmap='cool')\n",
        "ax3.set_title('Япония', fontsize=18)\n",
        "ax3.set_ylabel('')\n",
        "\n",
        "plt.suptitle('Топ-5 жанров по числу проданных игр в 2014-2016 гг.', fontsize=20, fontweight='bold')"
      ]
    },
    {
      "cell_type": "markdown",
      "metadata": {
        "id": "KoFKYZc8BoNG"
      },
      "source": [
        "Вкусы североамериканских и европейских игроков довольно похожи. Приблизительно одинаковые доли для этих регионов приходятся на жанры (в порядке убывания) Action, Shooter, Sports и Role-Playing. Пятое место в Европе занимает Racing, тогда как в Америке этого жанра нет в топ-5. Здесь на последнем месте игры с жанрами, не вошедшими в другие категории. У японцев вкусы заметно отличаются от американских и европейских: не первом месте здесь тоже Action, как и в других двух регионах, а второе место занимает Role-Playing c 25%, тогда как в Америке и Европе этот жанр занимает лишь 4-е место. На 3-м Shooter с 13%, на 4-м Fighting, жанр вообще не представленный в топ-5 в Америке и Европе. И на последнем -- Sports c 8%,  тогда как в Америке и Европе этот жанр занимает 3-ю позицию с 23% в обоих регионах."
      ]
    },
    {
      "cell_type": "markdown",
      "metadata": {
        "id": "7bJqo2bYVoEi"
      },
      "source": [
        "#### 4.3 Влияет ли рейтинг ESRB на продажи в отдельном регионе?\n"
      ]
    },
    {
      "cell_type": "code",
      "execution_count": null,
      "metadata": {
        "id": "69fXuHOtVbyP"
      },
      "outputs": [],
      "source": [
        "#сгруппируем данные по рейтингу и продажам\n",
        "rating_na = df_final.groupby('rating')['na_sales'].sum()\n",
        "rating_eu = df_final.groupby('rating')['eu_sales'].sum()\n",
        "rating_jp = df_final.groupby('rating')['jp_sales'].sum()"
      ]
    },
    {
      "cell_type": "code",
      "execution_count": null,
      "metadata": {
        "colab": {
          "base_uri": "https://localhost:8080/",
          "height": 438
        },
        "id": "44XPnoTkVyQ6",
        "outputId": "b0573dd8-e6ba-4d24-eb81-5575e10b0b7a"
      },
      "outputs": [
        {
          "data": {
            "text/plain": [
              "Text(0.5, 0.98, 'Продажи игр в зависимости от рейтинга ESBR в 2014-2016 гг.')"
            ]
          },
          "execution_count": 62,
          "metadata": {},
          "output_type": "execute_result"
        },
        {
          "data": {
            "image/png": "[encoded data removed]",
            "text/plain": [
              "<Figure size 1440x432 with 3 Axes>"
            ]
          },
          "metadata": {},
          "output_type": "display_data"
        }
      ],
      "source": [
        "#построим круговые диаграммы для каждого региона\n",
        "fig, (ax1, ax2, ax3) = plt.subplots(1, 3, figsize=(20, 6))#1 ряд, 3 диаграммы\n",
        "\n",
        "rating_na.plot(kind='pie', ax=ax1, subplots=True, autopct='%1.1f%%', fontsize=16, cmap='cool')\n",
        "ax1.set_title('Северная Америка', fontsize=18)\n",
        "ax1.set_ylabel('')\n",
        "\n",
        "rating_eu.plot(kind='pie', ax=ax2, subplots=True, autopct='%1.1f%%', fontsize=16, cmap='cool')\n",
        "ax2.set_title('Европа', fontsize=18)\n",
        "ax2.set_ylabel('')\n",
        "\n",
        "rating_jp.plot(kind='pie', ax=ax3, subplots=True, autopct='%1.1f%%', fontsize=16, cmap='cool')\n",
        "ax3.set_title('Япония', fontsize=18)\n",
        "ax3.set_ylabel('')\n",
        "\n",
        "plt.suptitle('Продажи игр в зависимости от рейтинга ESBR в 2014-2016 гг.', fontsize=20, fontweight='bold')"
      ]
    },
    {
      "cell_type": "markdown",
      "metadata": {
        "id": "B0q1qPENvmde"
      },
      "source": [
        "По диаграммам видно, что в Америке и Европе больше всего продается игр с рейтингм М (старше 17 лет),тогда как в Японии почти половина (47%) игр продается без возрастного рейтинга. В Америке и Европе без рейтинга продается ок. 20%. За ним следуют игры с маркировкой Т (тинейджер) - 15% и 13% соответственно. В Японии на эту долю приходится 22%. Следом идет маркировка Е (для всех). В Америке и Европе на этот рейтинг приходится 18% и 21% соотвественно. В Японии на продажи игр с этим рейтингом приходится всего 5%. На долю Е10+ приходится меньше всего продаж во всех трех регионах - 10%, 8% и 1% соответственно. "
      ]
    },
    {
      "cell_type": "markdown",
      "metadata": {
        "id": "W1jt9aLG74X7"
      },
      "source": [
        "<div class=\"alert alert-warning\">\n",
        "<b>Комментарий 👉</b>\n",
        "\n",
        "Рейтинг ESRB - это американский рейтинг, а в Японии есть своё рейтинговое агентство. Получается, что Япония страна со своим менталитетом. И твой анализ показывает, что Японцы в игры-то играют не такие, как весь прочий мир и жанры игр там популярны совсем другие, нежели в остальном мире, да и на рейтинги (не своего агентства) не очень то внимание обращают.</div>\n"
      ]
    },
    {
      "cell_type": "markdown",
      "metadata": {
        "id": "Ueep2ItNAqiO"
      },
      "source": [
        "### Вывод 4."
      ]
    },
    {
      "cell_type": "markdown",
      "metadata": {
        "id": "oShd-gkPAwLY"
      },
      "source": [
        "В этом разделе мы:\n",
        "- определили для пользователя каждого региона самые популярные платформы. Мы построили круговые диаграммы для всех регионов и определили, что самая популярная платформа для всех регионов - PS4. На нее приходятся 65%, 75% и 57% продаж в каждом регионе соответственно. Это понятно, ведь предыдущий анализ показал, что эта платформа самая новая, а потому самая перспективная из всех. X360 более популярна в Америке, чем в Европе, она занимает 18% и 9% в этих регионах соответственно. В Японии игр этой платформы продается ничтожно мало - меньше 0.1%. На PS3 приходится примерно равное количество продаж в Америке и Европе (ок. 15%), а вот в Японии эта платформа на втором месте по популярности после PS4. Wii занимает ничтожную долю рынка в Америке и Европе, в то время, как в Японии она не представлена вовсе.\n",
        "- Определили самые популярные жанры. Для этого также построили круговые диаграммы и выяснили, что вкусы североамериканских и европейских игроков довольно похожи. Приблизительно одинаковые доли для этих регионов приходятся на жанры (в порядке убывания) Action, Shooter, Sports и Role-Playing. Пятое место в Европе занимает Racing, тогда как в Америке этого жанра нет в топ-5. Здесь на последнем месте игры, не вошедшие в другие категории. У японцев вкусы заметно отличаются от американских и европейских: не первом месте здесь тоже Action, как и в других двух регионах, а второе место занимает Role-Playing c 25%, тогда как в Америке и Европе этот жанр занимает лишь 4-е. На 3-ем Shooter с 13%, на 4-м Fighting, жанр вообще не представленный в топ-5 в Америке и Европе. И на последнем -- Sports c 8%, тогда как в Америке и Европе этот жанр занимает 3-ю позицию с 23% в обоих регионах.\n",
        "- выяснили, влияет ли рейтинг ESRB на продажи в отдельном регионе. На основе построенных диаграм нашли, что в Северной Америке и Европе больше всего продается игр с рейтингм М (старше 17 лет),тогда как в Японии почти половина (47%) игр продается без возрастного рейтинга. В Америке и Европе без рейтинга продается ок. 20%. За ним следуют игры с маркировкой Т (тинейджер) - 15% и 13% соответственно. В Японии на эту долю приходится 22%. Следом идет маркировка Е (для всех). В Америке и Европе на этот рейтинг приходится 18% и 21% соотвественно. В Японии на продажи игр с этим рейтингом приходится всего 5%. На долю Е10+ приходится меньше всего продаж во всех трех регионах - 10%, 8% и 1% соответственно."
      ]
    },
    {
      "cell_type": "markdown",
      "metadata": {
        "id": "6AvHppIR74X8"
      },
      "source": [
        "<div class=\"alert alert-success\">\n",
        "<b>ОТЛИЧНО! 👍</b>\n",
        "\n",
        "Отличный вывод.</div>"
      ]
    },
    {
      "cell_type": "markdown",
      "metadata": {
        "id": "zNLEPHHCwJ0a"
      },
      "source": [
        "## Проверка гипотез"
      ]
    },
    {
      "cell_type": "markdown",
      "metadata": {
        "id": "qOyaGDswFCkn"
      },
      "source": [
        "#### Шаг 5.1 Проверим гипотезу: средние пользовательские рейтинги платформ Xbox One и PC одинаковые.\n"
      ]
    },
    {
      "cell_type": "markdown",
      "metadata": {
        "id": "81YiNl4VCoot"
      },
      "source": [
        "Для сравнения средних значений двух генеральных совокупностей применим специальный метод для проверки гипотезы о равенстве среднего двух генеральных совокупностей по взятым из них выборкам: scipy.stats.ttest_ind (array1, array2, equal_var) . Методу передают параметры: array1, array2 — массивы, содержащие выборки; equal_var (от англ. equal variance — «равная дисперсия») — необязательный параметр, задающий, считать ли равными дисперсии выборок.\n",
        "\n",
        "Таким образом, нулевая гипотеза будет звучать так: средние пользовательские рейтинги платформ Xbox One и PC одинаковые; Альтернативная -- средние пользовательские рейтинги платформ Xbox One и PC разные."
      ]
    },
    {
      "cell_type": "code",
      "execution_count": null,
      "metadata": {
        "id": "K7i-T0NWwNvS"
      },
      "outputs": [],
      "source": [
        "#отфильтрует платформы XOne и PC по актуальному периоду\n",
        "df_xone = df.query('platform == \"XOne\" and year_of_release >= 2014 and user_score != -1')\n",
        "df_pc = df.query('platform == \"PC\" and year_of_release >= 2014 and user_score != -1')"
      ]
    },
    {
      "cell_type": "code",
      "execution_count": null,
      "metadata": {
        "colab": {
          "base_uri": "https://localhost:8080/",
          "height": 303
        },
        "id": "RxvLVvyQCjTB",
        "outputId": "f5cc6335-21b2-4a51-ff8b-3b0e3cf0eee2"
      },
      "outputs": [
        {
          "data": {
            "text/plain": [
              "<matplotlib.legend.Legend at 0x7f727d177bb0>"
            ]
          },
          "execution_count": 64,
          "metadata": {},
          "output_type": "execute_result"
        },
        {
          "data": {
            "image/png": "[encoded data removed]",
            "text/plain": [
              "<Figure size 432x288 with 1 Axes>"
            ]
          },
          "metadata": {
            "needs_background": "light"
          },
          "output_type": "display_data"
        }
      ],
      "source": [
        "#построим гистограммы чтобы посмотреть на распределения\n",
        "df_xone['user_score'].hist(bins=50, alpha=0.5, label='XOne')\n",
        "df_pc['user_score'].hist(bins=50, alpha=0.5, label='PC')\n",
        "plt.legend()"
      ]
    },
    {
      "cell_type": "markdown",
      "metadata": {
        "id": "smiRelyeHsen"
      },
      "source": [
        "Датасеты немного скошены влево"
      ]
    },
    {
      "cell_type": "code",
      "execution_count": null,
      "metadata": {
        "colab": {
          "base_uri": "https://localhost:8080/"
        },
        "id": "ymZszDbgDjmn",
        "outputId": "29023377-3133-4d49-dc1f-6b4f015555e0"
      },
      "outputs": [
        {
          "data": {
            "text/plain": [
              "50"
            ]
          },
          "execution_count": 65,
          "metadata": {},
          "output_type": "execute_result"
        }
      ],
      "source": [
        "#найдем уникальные значения наших выборок\n",
        "df_xone['user_score'].nunique()"
      ]
    },
    {
      "cell_type": "code",
      "execution_count": null,
      "metadata": {
        "colab": {
          "base_uri": "https://localhost:8080/"
        },
        "id": "RISNSASMD897",
        "outputId": "7d469f5f-e4ce-4316-e1ec-c3bbb0d5dcc7"
      },
      "outputs": [
        {
          "data": {
            "text/plain": [
              "51"
            ]
          },
          "execution_count": 66,
          "metadata": {},
          "output_type": "execute_result"
        }
      ],
      "source": [
        "#найдем уникальные значения наших выборок\n",
        "df_pc['user_score'].nunique()"
      ]
    },
    {
      "cell_type": "code",
      "execution_count": null,
      "metadata": {
        "colab": {
          "base_uri": "https://localhost:8080/"
        },
        "id": "2COPIVKdjMF0",
        "outputId": "4c09b7d6-6952-4199-ff17-4877ce03432b"
      },
      "outputs": [
        {
          "data": {
            "text/plain": [
              "1.8795460055096425"
            ]
          },
          "execution_count": 67,
          "metadata": {},
          "output_type": "execute_result"
        }
      ],
      "source": [
        "#найдем дисперсии\n",
        "df_xone_var = np.var(df_xone['user_score'])\n",
        "df_xone_var"
      ]
    },
    {
      "cell_type": "code",
      "execution_count": null,
      "metadata": {
        "colab": {
          "base_uri": "https://localhost:8080/"
        },
        "id": "ef8pJ1YEjXxa",
        "outputId": "83fde5e4-b9d7-445b-f952-50fde8e4bb96"
      },
      "outputs": [
        {
          "data": {
            "text/plain": [
              "2.8773743617307175"
            ]
          },
          "execution_count": 68,
          "metadata": {},
          "output_type": "execute_result"
        }
      ],
      "source": [
        "df_pc_var = np.var(df_pc['user_score'])\n",
        "df_pc_var"
      ]
    },
    {
      "cell_type": "markdown",
      "metadata": {
        "id": "mYzd66FYHw_V"
      },
      "source": [
        "Размер выборок практически одинаковый, дисперсии не сильно разнятся, поэтому не будем применять параметр equal_var=False"
      ]
    },
    {
      "cell_type": "code",
      "execution_count": null,
      "metadata": {
        "colab": {
          "base_uri": "https://localhost:8080/"
        },
        "id": "q14CT__3EBpG",
        "outputId": "ec45bcb6-9e38-446e-9292-69eae4c7c431"
      },
      "outputs": [
        {
          "name": "stdout",
          "output_type": "stream",
          "text": [
            "p-значение: 0.10450507919348415\n",
            "Не получилось отвергнуть нулевую гипотезу\n"
          ]
        }
      ],
      "source": [
        "from scipy import stats as st\n",
        "\n",
        "alpha = .01 # критический уровень статистической значимости\n",
        "#если p-value окажется меньше него - отвегнем гипотезу\n",
        "\n",
        "results = st.ttest_ind(df_xone['user_score'], df_pc['user_score'])\n",
        " \n",
        "print('p-значение:', results.pvalue)\n",
        " \n",
        "if results.pvalue < alpha:\n",
        "    print(\"Отвергаем нулевую гипотезу\")\n",
        "else:\n",
        "    print(\"Не получилось отвергнуть нулевую гипотезу\") "
      ]
    },
    {
      "cell_type": "markdown",
      "metadata": {
        "id": "Qhvn5jNsIFuY"
      },
      "source": [
        "Итак, мы не можем отвергнуть нашу гипотезу, что средние пользовательские рейтинги платформ Xbox One и PC одинаковые.\n",
        "\n"
      ]
    },
    {
      "cell_type": "markdown",
      "metadata": {
        "id": "wseSEqzsIXcp"
      },
      "source": [
        "#### Шаг 5.2 Проверим гипотезу: средние пользовательские рейтинги жанров Action и Sports разные.\n"
      ]
    },
    {
      "cell_type": "markdown",
      "metadata": {
        "id": "7JHeV4zIJ5sP"
      },
      "source": [
        "Здесь нулевая гипотеза будет звучать так: средние пользовательские рейтинги жанров Action и Sports одинаковые. Альтернативная будет противоположна нулевой: средние пользовательские рейтинги жанров Action и Sports разные."
      ]
    },
    {
      "cell_type": "code",
      "execution_count": null,
      "metadata": {
        "id": "rMsdp8rkIPjY"
      },
      "outputs": [],
      "source": [
        "#отфильтруем наш датасет по жанру и значениям user_score не равным -1\n",
        "action = df_final.query('genre == \"Action\" and user_score != -1')"
      ]
    },
    {
      "cell_type": "code",
      "execution_count": null,
      "metadata": {
        "id": "4X-i5g0EKpDt"
      },
      "outputs": [],
      "source": [
        "sports = df_final.query('genre == \"Sports\" and user_score != -1')"
      ]
    },
    {
      "cell_type": "code",
      "execution_count": null,
      "metadata": {
        "colab": {
          "base_uri": "https://localhost:8080/",
          "height": 303
        },
        "id": "eq9_LLveKxNb",
        "outputId": "0aa026e8-c829-4e8f-ffa6-6df8361ad139"
      },
      "outputs": [
        {
          "data": {
            "text/plain": [
              "<matplotlib.legend.Legend at 0x7f7260423ee0>"
            ]
          },
          "execution_count": 72,
          "metadata": {},
          "output_type": "execute_result"
        },
        {
          "data": {
            "image/png": "[encoded data removed]",
            "text/plain": [
              "<Figure size 432x288 with 1 Axes>"
            ]
          },
          "metadata": {
            "needs_background": "light"
          },
          "output_type": "display_data"
        }
      ],
      "source": [
        "#построим гистограммы чтобы посмотреть на распределения\n",
        "action['user_score'].hist(bins=50, alpha=0.5, label='action')\n",
        "sports['user_score'].hist(bins=50, alpha=0.5, label='sports')\n",
        "plt.legend()"
      ]
    },
    {
      "cell_type": "markdown",
      "metadata": {
        "id": "hZf-5KwNgwim"
      },
      "source": [
        "У action датасет скошен влево, а у sports нормальное распределение."
      ]
    },
    {
      "cell_type": "code",
      "execution_count": null,
      "metadata": {
        "colab": {
          "base_uri": "https://localhost:8080/"
        },
        "id": "7i4tA7mtLOxu",
        "outputId": "49ca1c43-f7cc-4f76-9f12-424ae9e26273"
      },
      "outputs": [
        {
          "data": {
            "text/plain": [
              "48"
            ]
          },
          "execution_count": 73,
          "metadata": {},
          "output_type": "execute_result"
        }
      ],
      "source": [
        "#найдем уникальные значения\n",
        "action['user_score'].nunique()"
      ]
    },
    {
      "cell_type": "code",
      "execution_count": null,
      "metadata": {
        "colab": {
          "base_uri": "https://localhost:8080/"
        },
        "id": "1qJfziS6LXuL",
        "outputId": "cd3d2775-4388-41e9-b6e6-2f76046ac5bf"
      },
      "outputs": [
        {
          "data": {
            "text/plain": [
              "53"
            ]
          },
          "execution_count": 74,
          "metadata": {},
          "output_type": "execute_result"
        }
      ],
      "source": [
        "sports['user_score'].nunique()"
      ]
    },
    {
      "cell_type": "markdown",
      "metadata": {
        "id": "JO_II6Pth04d"
      },
      "source": [
        "Выборки более или менее равны"
      ]
    },
    {
      "cell_type": "code",
      "execution_count": null,
      "metadata": {
        "colab": {
          "base_uri": "https://localhost:8080/"
        },
        "id": "rjtqROlGiflk",
        "outputId": "8c35870a-53aa-484a-90b6-fe3f33d974b6"
      },
      "outputs": [
        {
          "data": {
            "text/plain": [
              "1.8118756563747112"
            ]
          },
          "execution_count": 75,
          "metadata": {},
          "output_type": "execute_result"
        }
      ],
      "source": [
        "#найдем дисперсии\n",
        "action_var = np.var(action['user_score'])\n",
        "action_var"
      ]
    },
    {
      "cell_type": "code",
      "execution_count": null,
      "metadata": {
        "colab": {
          "base_uri": "https://localhost:8080/"
        },
        "id": "ijZcyj-TivZ7",
        "outputId": "71958ef1-0dc5-4821-8257-12ca2c9effb9"
      },
      "outputs": [
        {
          "data": {
            "text/plain": [
              "3.8843486620733843"
            ]
          },
          "execution_count": 76,
          "metadata": {},
          "output_type": "execute_result"
        }
      ],
      "source": [
        "sports_var = np.var(sports['user_score'])\n",
        "sports_var"
      ]
    },
    {
      "cell_type": "markdown",
      "metadata": {
        "id": "QkpaJaqukQBa"
      },
      "source": [
        "Выборки почти одинаковые, но дисперсии различаются, поэтому при вызове метода scipy.stats.ttest_ind() укажем параметр equal_var как False "
      ]
    },
    {
      "cell_type": "code",
      "execution_count": null,
      "metadata": {
        "colab": {
          "base_uri": "https://localhost:8080/"
        },
        "id": "2ZztLIbNLmCJ",
        "outputId": "cd658008-6570-4ceb-92e5-69e478df53a4"
      },
      "outputs": [
        {
          "name": "stdout",
          "output_type": "stream",
          "text": [
            "p-значение: 8.533200351910872e-10\n",
            "Отвергаем нулевую гипотезу\n"
          ]
        }
      ],
      "source": [
        "alpha = .01 # критический уровень статистической значимости\n",
        "#если p-value окажется меньше него - отвегнем гипотезу\n",
        "\n",
        "results = st.ttest_ind(action['user_score'], sports['user_score'], equal_var=False)\n",
        " \n",
        "print('p-значение:', results.pvalue)\n",
        " \n",
        "if results.pvalue < alpha:\n",
        "    print(\"Отвергаем нулевую гипотезу\")\n",
        "else:\n",
        "    print(\"Не получилось отвергнуть нулевую гипотезу\") "
      ]
    },
    {
      "cell_type": "code",
      "execution_count": null,
      "metadata": {
        "colab": {
          "base_uri": "https://localhost:8080/"
        },
        "id": "l3sqzqpMpkXC",
        "outputId": "1c9e60d9-c47f-4bb4-c519-582ca07bcf81"
      },
      "outputs": [
        {
          "data": {
            "text/plain": [
              "count    138.000000\n",
              "mean       6.736232\n",
              "std        1.350963\n",
              "min        2.000000\n",
              "25%        6.225000\n",
              "50%        7.100000\n",
              "75%        7.700000\n",
              "max        8.700000\n",
              "Name: user_score, dtype: float64"
            ]
          },
          "execution_count": 78,
          "metadata": {},
          "output_type": "execute_result"
        }
      ],
      "source": [
        "#вызовем метод describe\n",
        "action['user_score'].describe()"
      ]
    },
    {
      "cell_type": "code",
      "execution_count": null,
      "metadata": {
        "colab": {
          "base_uri": "https://localhost:8080/"
        },
        "id": "oAWvPsyNpsvZ",
        "outputId": "7b717f14-b7aa-458f-ae9a-345397ff70c3"
      },
      "outputs": [
        {
          "data": {
            "text/plain": [
              "count    79.000000\n",
              "mean      5.063291\n",
              "std       1.983469\n",
              "min       0.200000\n",
              "25%       3.400000\n",
              "50%       5.100000\n",
              "75%       6.800000\n",
              "max       8.700000\n",
              "Name: user_score, dtype: float64"
            ]
          },
          "execution_count": 79,
          "metadata": {},
          "output_type": "execute_result"
        }
      ],
      "source": [
        "sports['user_score'].describe()"
      ]
    },
    {
      "cell_type": "markdown",
      "metadata": {
        "id": "QBRPSD8ozyek"
      },
      "source": [
        "Видим, что средние значения жанров Action и Sports довольно сильно отличаются."
      ]
    },
    {
      "cell_type": "markdown",
      "metadata": {
        "id": "0YVxB5eHgVWZ"
      },
      "source": [
        "Отвергаем нулевую гипотезу, а значит не можем отвергнуть гипотезу, что средние пользовательские рейтинги жанров Action и Sports разные."
      ]
    },
    {
      "cell_type": "markdown",
      "metadata": {
        "id": "ZyKjRdWPteB3"
      },
      "source": [
        " ### Вывод 5."
      ]
    },
    {
      "cell_type": "markdown",
      "metadata": {
        "id": "GofKA4ZwtjBh"
      },
      "source": [
        "В этом разделе мы проверили две гипотезы:\n",
        "- \"средние пользовательские рейтинги платформ Xbox One и PC одинаковые\".\n",
        "- \"средние пользовательские рейтинги жанров Action и Sports разные\".\n",
        "\n",
        "Пришли к выводу, что обе гипотезы отбросить нельзя."
      ]
    },
    {
      "cell_type": "markdown",
      "metadata": {
        "id": "x5JyHl-k74YO"
      },
      "source": [
        "<div class=\"alert alert-success\">\n",
        "<b>ОТЛИЧНО! 👍</b>\n",
        "\n",
        "В разделе проверки гипотез всё хорошо.</div>"
      ]
    },
    {
      "cell_type": "markdown",
      "metadata": {
        "id": "X3exuyQLuPrH"
      },
      "source": [
        "## Общий вывод"
      ]
    },
    {
      "cell_type": "markdown",
      "metadata": {
        "id": "K4Mg9A6UuUG1"
      },
      "source": [
        "Мы получили таблицу, в которой 11 столбцов и 16 714 строк. В данных обнаружили пропуски, нарушения стиля в названиях столбцов, неверные типы данных, странное обозначение tbd в User_Score. \n",
        "\n",
        "В ходе предобработки данных мы:\n",
        "- перевели названия столбцов в нижний регистр;\n",
        "- удалили пропуски в стобцах year_of_release', 'genre', 'name';\n",
        "- перевели столбец \"год выпуска\" в целочисленный тип, а \"рейтинг пользователей\" в тип float;\n",
        "- нашли долю пропусков в critic_score, user_score, rating;\n",
        "- заменили пропуски critic_score, user_score на \"-1\", \"tbd\" в user_score также заменили на \"-1\". В столбце с рейтингом пропупуски заменили на \"не доступно\".\n",
        "\n",
        "Далее произвели исследовательский анализ данных:\n",
        " - мы изучили, сколько игр выпускалось за разные годы и выяснили, что больше всего игр выпускалось в 2008 и 2009 годах. В период до 1995 года выходило очень мало игр. \n",
        " - изучили, как менялись продажи по платформам. Выбрали топ-7 платформ с наибольшими суммарными продажами и построили распределение по годам. Выяснили, что средняя жизнь платформы - 10 лет. Выбрали актуальный период 2014-2016 годы.\n",
        " - построили график «ящик с усами» по глобальным продажам игр в разбивке по платформам. Выяснили, что медианные продажи для всех платформ составляют ок. 200 тыс. копий в год (кроме PS3, жизненный цикл которой завершается). Выбросы говорят о небольшом количестве игр с очень большими продажами, которые и определяют лидирующие позицию этих платформ на рынке. Особенно много таких успешных игр у PS4.\n",
        " - посмотрели, как влияют на продажи внутри одной популярной платформы отзывы пользователей и критиков. Построили диаграмму рассеяния и посчитали корреляцию между отзывами и продажами и выяснили, что связи между оценками пользователей и продажами игр практически нет. Коэф. корреляции низкий - 0.15. В то время, как связь между продажами и оценками экспертов для всех платформ является прямой, средней степени выраженности (коэффициент 0,44).\n",
        " - нашли коэффициенты корреляции по продажам игр и отзывам на других платформах, кроме PS3 и обнаружили, что по остальным 3 топ-платформам коэффициенты корреляции немного отличаются от одной PS3. Здесь видно, что связь между оценками пользователей и продажами еще меньше. Коэф.корреляции незначительный -- -0.01, что говорит о низкой степени выраженности. Коэф.корреляции для оценки критиков -- 0.39. Это значение чуть меньше, чем для одной платформы PS3, т.е связь  между продажами и оценками экспертов для всех платформ является прямой, средней степени выраженности. \n",
        " - посмотрели на общее распределение игр по жанрам и нашли, что самые прибыльные -- это игры с жанрами Shooter, Sports и Simulation.\n",
        "\n",
        "После этого составили портрет пользователя каждого региона:\n",
        "- определили для пользователя каждого региона самые популярные платформы. Мы построили круговые диаграммы для всех регионов и определили, что самая популярная платформа для всех регионов - PS4. На нее приходятся 65%, 75% и 57% продаж в каждом регионе соответственно. Это понятно, ведь предыдущий анализ показал, что эта платформа самая новая, а потому самая перспективная из всех. X360 более популярна в Америке, чем в Европе, она занимает 18% и 9% в этих регионах соответственно. В Японии игр этой платформы продается ничтожно мало - меньше 0.1%. На PS3 приходится примерно равное количество продаж в Америке и Европе (ок. 15%), а вот в Японии эта платформа на втором месте по популярности после PS4. Wii занимает ничтожную долю рынка в Америке и Европе, в то время, как в Японии она не представлена вовсе.\n",
        "- Определили самые популярные жанры. Для этого также построили круговые диаграммы и выяснили, что вкусы североамериканских и европейских игроков довольно похожи. Приблизительно одинаковые доли для этих регионов приходятся на жанры (в порядке убывания) Action, Shooter, Sports и Role-Playing. Пятое место в Европе занимает Racing, тогда как в Америке этого жанра нет в топ-5. Здесь на последнем месте игры, не вошедшие в другие категории. У японцев вкусы заметно отличаются от американских и европейских: не первом месте здесь тоже Action, как и в других двух регионах, а второе место занимает Role-Playing c 25%, тогда как в Америке и Европе этот жанр занимает лишь 4-е место. На 3-м Shooter с 13%, на 4-м Fighting, жанр вообще не представленный в топ-5 в Америке и Европе. И на последнем -- Sports c 8%, тогда как в Америке и Европе этот жанр занимает 3-ю позицию с 23% в обоих регионах.\n",
        "- выяснили, влияет ли рейтинг ESRB на продажи в отдельном регионе. На основе построенных диаграм нашли, что в Северной Америке и Европе больше всего продается игр с рейтингм М (старше 17 лет),тогда как в Японии почти половина (47%) игр продается без возрастного рейтинга. В Америке и Европе без рейтинга продается ок. 20%. За ним следуют игры с маркировкой Т (тинейджер) - 15% и 13% соответственно. В Японии на эту долю приходится 22%. Следом идет маркировка Е (для всех). В Америке и Европе на этот рейтинг приходится 18% и 21% соотвественно. В Японии на продажи игр с этим рейтингом приходится всего 5%. На долю Е10+ приходится меньше всего продаж во всех трех регионах - 10%, 8% и 1% соответственно.\n",
        "\n",
        "Наконец, мы проверили две гипотезы:\n",
        "- \"средние пользовательские рейтинги платформ Xbox One и PC одинаковые\".\n",
        "- \"средние пользовательские рейтинги жанров Action и Sports разные\".\n",
        "\n",
        "И пришли к выводу, что обе гипотезы отбросить нельзя.\n"
      ]
    },
    {
      "cell_type": "markdown",
      "metadata": {
        "id": "F6bMJXv674YP"
      },
      "source": [
        "# Результат ревью:\n",
        "\n",
        "Елена, я отмечаю высокий уровень твоей программистской подготовки. Ты используешь продвинутые концепции языка Python и библиотеки pandas (метод .loc, векторизацию, цепочку методов (chain rules)). Всё это в целом упрощает твой код и одновременно показывает твой уровень владения инструментами.\n",
        "\n",
        "Ты умело применяешь графические библиотеки (matplotlib), выбираешь для визуализации ровно те типы графиков, которые нужны. Очень хорошо, что оси на графиках подписаны и сами они имеют понятные названия.\n",
        "\n",
        "С комментированием тоже никаких проблем нет. Твоих объяснений достаточно для понимания твоими коллегами хода мыслей. Ссылки из брифа проекта в нужных местах также помогают следовать за развитием событий и дают полную информацию касаемо того, что будет происходить в том или ином разделе проекта.\n",
        "\n",
        "Мне было просто проверять твой проект, потому что ты чётко структурировала его, используя оглавление. Спасибо.\n",
        "\n",
        "Зелёным цветом я отметил и прокомментировал удачные и элегантные решения, на которые ты можешь опираться в будущих проектах.\n",
        "\n",
        "Жёлтым цветом я выделил то, что в следующий раз можно сделать по-другому. Ты можешь учесть эти комментарии при выполнении будущих заданий или доработать проект сейчас (однако это не обязательно).\n",
        "\n",
        "И всего один момент, которые не позволяет мне принять твой проект в его нынешнем состоянии:\n",
        "\n",
        "<div class=\"alert alert-danger\">\n",
        "<b>Необходимо исправить ❌</b> \n",
        "\n",
        "1. По условию проекта надо сравнить результаты PS3 с результатами на других консолях. Но ты сравниваешь PS3 со всеми прочими  консолями. Это не соответствует условию.</div>\n",
        "\n",
        "Этот момент требует твоего внимания. Он помечен красным цветом. После его исправления твой проект будет принят.\n",
        " \n",
        "Подводя итог: отличная работа на самом-то деле, молодец! Всего 1 момент к исправлению, но уверен, что он не вызовет у тебя вообще никаких сложностей. Присылай проект проекта на повторное ревью."
      ]
    }
  ],
  "metadata": {
    "ExecuteTimeLog": [
      {
        "duration": 613,
        "start_time": "2022-05-02T08:28:12.147Z"
      },
      {
        "duration": 2,
        "start_time": "2022-05-02T08:28:12.762Z"
      },
      {
        "duration": 44,
        "start_time": "2022-05-02T08:28:12.765Z"
      },
      {
        "duration": 17,
        "start_time": "2022-05-02T08:28:12.810Z"
      },
      {
        "duration": 12,
        "start_time": "2022-05-02T08:28:12.829Z"
      },
      {
        "duration": 9,
        "start_time": "2022-05-02T08:28:12.842Z"
      },
      {
        "duration": 9,
        "start_time": "2022-05-02T08:28:12.852Z"
      },
      {
        "duration": 16,
        "start_time": "2022-05-02T08:28:12.862Z"
      },
      {
        "duration": 4,
        "start_time": "2022-05-02T08:28:12.901Z"
      },
      {
        "duration": 5,
        "start_time": "2022-05-02T08:28:12.906Z"
      },
      {
        "duration": 11,
        "start_time": "2022-05-02T08:28:12.913Z"
      },
      {
        "duration": 4,
        "start_time": "2022-05-02T08:28:12.926Z"
      },
      {
        "duration": 11,
        "start_time": "2022-05-02T08:28:12.932Z"
      },
      {
        "duration": 14,
        "start_time": "2022-05-02T08:28:12.946Z"
      },
      {
        "duration": 4,
        "start_time": "2022-05-02T08:28:12.961Z"
      },
      {
        "duration": 6,
        "start_time": "2022-05-02T08:28:12.966Z"
      },
      {
        "duration": 5,
        "start_time": "2022-05-02T08:28:12.973Z"
      },
      {
        "duration": 24,
        "start_time": "2022-05-02T08:28:12.979Z"
      },
      {
        "duration": 8,
        "start_time": "2022-05-02T08:28:13.004Z"
      },
      {
        "duration": 8,
        "start_time": "2022-05-02T08:28:13.013Z"
      },
      {
        "duration": 5,
        "start_time": "2022-05-02T08:28:13.022Z"
      },
      {
        "duration": 7,
        "start_time": "2022-05-02T08:28:13.028Z"
      },
      {
        "duration": 6,
        "start_time": "2022-05-02T08:28:13.036Z"
      },
      {
        "duration": 19,
        "start_time": "2022-05-02T08:28:13.044Z"
      },
      {
        "duration": 37,
        "start_time": "2022-05-02T08:28:13.065Z"
      },
      {
        "duration": 6,
        "start_time": "2022-05-02T08:28:13.104Z"
      },
      {
        "duration": 298,
        "start_time": "2022-05-02T08:28:13.111Z"
      },
      {
        "duration": 4,
        "start_time": "2022-05-02T08:28:13.411Z"
      },
      {
        "duration": 23,
        "start_time": "2022-05-02T08:28:13.417Z"
      },
      {
        "duration": 14,
        "start_time": "2022-05-02T08:28:13.441Z"
      },
      {
        "duration": 3,
        "start_time": "2022-05-02T08:28:13.456Z"
      },
      {
        "duration": 11,
        "start_time": "2022-05-02T08:28:13.461Z"
      },
      {
        "duration": 40,
        "start_time": "2022-05-02T08:28:13.473Z"
      },
      {
        "duration": 226,
        "start_time": "2022-05-02T08:28:13.515Z"
      },
      {
        "duration": 2,
        "start_time": "2022-05-02T08:28:13.742Z"
      },
      {
        "duration": 13,
        "start_time": "2022-05-02T08:28:13.745Z"
      },
      {
        "duration": 12,
        "start_time": "2022-05-02T08:28:13.760Z"
      },
      {
        "duration": 8,
        "start_time": "2022-05-02T08:28:13.773Z"
      },
      {
        "duration": 4,
        "start_time": "2022-05-02T08:28:13.782Z"
      },
      {
        "duration": 17,
        "start_time": "2022-05-02T08:28:13.788Z"
      },
      {
        "duration": 202,
        "start_time": "2022-05-02T08:28:13.809Z"
      },
      {
        "duration": 5,
        "start_time": "2022-05-02T08:28:14.013Z"
      },
      {
        "duration": 248,
        "start_time": "2022-05-02T08:28:14.020Z"
      },
      {
        "duration": 7,
        "start_time": "2022-05-02T08:28:14.269Z"
      },
      {
        "duration": 196,
        "start_time": "2022-05-02T08:28:14.277Z"
      },
      {
        "duration": 8,
        "start_time": "2022-05-02T08:28:14.475Z"
      },
      {
        "duration": 288,
        "start_time": "2022-05-02T08:28:14.484Z"
      },
      {
        "duration": 162,
        "start_time": "2022-05-02T08:28:14.773Z"
      },
      {
        "duration": 607,
        "start_time": "2022-05-02T08:28:14.937Z"
      },
      {
        "duration": 9,
        "start_time": "2022-05-02T08:28:15.546Z"
      },
      {
        "duration": 17,
        "start_time": "2022-05-02T08:28:15.557Z"
      },
      {
        "duration": 6,
        "start_time": "2022-05-02T08:28:15.576Z"
      },
      {
        "duration": 158,
        "start_time": "2022-05-02T08:28:15.599Z"
      },
      {
        "duration": 7,
        "start_time": "2022-05-02T08:28:15.759Z"
      },
      {
        "duration": 259,
        "start_time": "2022-05-02T08:28:15.768Z"
      },
      {
        "duration": 6,
        "start_time": "2022-05-02T08:28:16.029Z"
      },
      {
        "duration": 352,
        "start_time": "2022-05-02T08:28:16.037Z"
      },
      {
        "duration": 13,
        "start_time": "2022-05-02T08:28:16.390Z"
      },
      {
        "duration": 262,
        "start_time": "2022-05-02T08:28:16.404Z"
      },
      {
        "duration": 10,
        "start_time": "2022-05-02T08:28:16.667Z"
      },
      {
        "duration": 248,
        "start_time": "2022-05-02T08:28:16.678Z"
      },
      {
        "duration": 4,
        "start_time": "2022-05-02T08:28:16.928Z"
      },
      {
        "duration": 6,
        "start_time": "2022-05-02T08:28:16.933Z"
      },
      {
        "duration": 6,
        "start_time": "2022-05-02T08:28:16.940Z"
      },
      {
        "duration": 5,
        "start_time": "2022-05-02T08:28:16.947Z"
      },
      {
        "duration": 485,
        "start_time": "2022-05-02T08:28:16.953Z"
      },
      {
        "duration": 5,
        "start_time": "2022-05-02T08:28:17.440Z"
      },
      {
        "duration": 8,
        "start_time": "2022-05-02T08:28:17.446Z"
      },
      {
        "duration": 247,
        "start_time": "2022-05-02T08:28:17.455Z"
      },
      {
        "duration": 4,
        "start_time": "2022-05-02T08:28:17.703Z"
      },
      {
        "duration": 6,
        "start_time": "2022-05-02T08:28:17.709Z"
      },
      {
        "duration": 6,
        "start_time": "2022-05-02T08:28:17.717Z"
      },
      {
        "duration": 6,
        "start_time": "2022-05-02T08:28:17.724Z"
      },
      {
        "duration": 6,
        "start_time": "2022-05-02T08:28:17.731Z"
      },
      {
        "duration": 9,
        "start_time": "2022-05-02T08:28:17.738Z"
      },
      {
        "duration": 7,
        "start_time": "2022-05-02T08:28:17.748Z"
      },
      {
        "duration": 20,
        "start_time": "2022-05-02T08:48:30.476Z"
      },
      {
        "duration": 316,
        "start_time": "2022-05-02T08:49:26.890Z"
      },
      {
        "duration": 169,
        "start_time": "2022-05-02T08:49:34.256Z"
      },
      {
        "duration": 168,
        "start_time": "2022-05-02T08:49:49.666Z"
      },
      {
        "duration": 186,
        "start_time": "2022-05-02T08:50:00.716Z"
      },
      {
        "duration": 172,
        "start_time": "2022-05-02T08:50:19.476Z"
      },
      {
        "duration": 185,
        "start_time": "2022-05-02T08:51:39.752Z"
      },
      {
        "duration": 48,
        "start_time": "2022-05-02T11:08:35.241Z"
      },
      {
        "duration": 836,
        "start_time": "2022-05-02T11:08:56.840Z"
      },
      {
        "duration": 2,
        "start_time": "2022-05-02T11:08:57.678Z"
      },
      {
        "duration": 41,
        "start_time": "2022-05-02T11:08:57.682Z"
      },
      {
        "duration": 22,
        "start_time": "2022-05-02T11:08:57.725Z"
      },
      {
        "duration": 16,
        "start_time": "2022-05-02T11:08:57.748Z"
      },
      {
        "duration": 11,
        "start_time": "2022-05-02T11:08:57.766Z"
      },
      {
        "duration": 34,
        "start_time": "2022-05-02T11:08:57.779Z"
      },
      {
        "duration": 20,
        "start_time": "2022-05-02T11:08:57.815Z"
      },
      {
        "duration": 4,
        "start_time": "2022-05-02T11:08:57.837Z"
      },
      {
        "duration": 4,
        "start_time": "2022-05-02T11:08:57.844Z"
      },
      {
        "duration": 7,
        "start_time": "2022-05-02T11:08:57.849Z"
      },
      {
        "duration": 3,
        "start_time": "2022-05-02T11:08:57.858Z"
      },
      {
        "duration": 45,
        "start_time": "2022-05-02T11:08:57.863Z"
      },
      {
        "duration": 18,
        "start_time": "2022-05-02T11:08:57.911Z"
      },
      {
        "duration": 3,
        "start_time": "2022-05-02T11:08:57.932Z"
      },
      {
        "duration": 5,
        "start_time": "2022-05-02T11:08:57.937Z"
      },
      {
        "duration": 4,
        "start_time": "2022-05-02T11:08:57.944Z"
      },
      {
        "duration": 6,
        "start_time": "2022-05-02T11:08:57.950Z"
      },
      {
        "duration": 6,
        "start_time": "2022-05-02T11:08:57.958Z"
      },
      {
        "duration": 46,
        "start_time": "2022-05-02T11:08:57.966Z"
      },
      {
        "duration": 6,
        "start_time": "2022-05-02T11:08:58.013Z"
      },
      {
        "duration": 7,
        "start_time": "2022-05-02T11:08:58.021Z"
      },
      {
        "duration": 7,
        "start_time": "2022-05-02T11:08:58.030Z"
      },
      {
        "duration": 10,
        "start_time": "2022-05-02T11:08:58.039Z"
      },
      {
        "duration": 12,
        "start_time": "2022-05-02T11:08:58.051Z"
      },
      {
        "duration": 8,
        "start_time": "2022-05-02T11:08:58.065Z"
      },
      {
        "duration": 408,
        "start_time": "2022-05-02T11:08:58.074Z"
      },
      {
        "duration": 6,
        "start_time": "2022-05-02T11:08:58.488Z"
      },
      {
        "duration": 23,
        "start_time": "2022-05-02T11:08:58.508Z"
      },
      {
        "duration": 21,
        "start_time": "2022-05-02T11:08:58.534Z"
      },
      {
        "duration": 5,
        "start_time": "2022-05-02T11:08:58.557Z"
      },
      {
        "duration": 13,
        "start_time": "2022-05-02T11:08:58.564Z"
      },
      {
        "duration": 52,
        "start_time": "2022-05-02T11:08:58.579Z"
      },
      {
        "duration": 287,
        "start_time": "2022-05-02T11:08:58.633Z"
      },
      {
        "duration": 3,
        "start_time": "2022-05-02T11:08:58.922Z"
      },
      {
        "duration": 15,
        "start_time": "2022-05-02T11:08:58.928Z"
      },
      {
        "duration": 18,
        "start_time": "2022-05-02T11:08:58.945Z"
      },
      {
        "duration": 9,
        "start_time": "2022-05-02T11:08:58.965Z"
      },
      {
        "duration": 32,
        "start_time": "2022-05-02T11:08:58.976Z"
      },
      {
        "duration": 15,
        "start_time": "2022-05-02T11:08:59.010Z"
      },
      {
        "duration": 259,
        "start_time": "2022-05-02T11:08:59.028Z"
      },
      {
        "duration": 20,
        "start_time": "2022-05-02T11:08:59.289Z"
      },
      {
        "duration": 316,
        "start_time": "2022-05-02T11:08:59.311Z"
      },
      {
        "duration": 7,
        "start_time": "2022-05-02T11:08:59.629Z"
      },
      {
        "duration": 254,
        "start_time": "2022-05-02T11:08:59.639Z"
      },
      {
        "duration": 13,
        "start_time": "2022-05-02T11:08:59.895Z"
      },
      {
        "duration": 364,
        "start_time": "2022-05-02T11:08:59.910Z"
      },
      {
        "duration": 200,
        "start_time": "2022-05-02T11:09:00.275Z"
      },
      {
        "duration": 777,
        "start_time": "2022-05-02T11:09:00.477Z"
      },
      {
        "duration": 697,
        "start_time": "2022-05-02T11:09:01.256Z"
      },
      {
        "duration": 9,
        "start_time": "2022-05-02T11:09:01.955Z"
      },
      {
        "duration": 21,
        "start_time": "2022-05-02T11:09:01.966Z"
      },
      {
        "duration": 24,
        "start_time": "2022-05-02T11:09:01.989Z"
      },
      {
        "duration": 184,
        "start_time": "2022-05-02T11:09:02.016Z"
      },
      {
        "duration": 8,
        "start_time": "2022-05-02T11:09:02.206Z"
      },
      {
        "duration": 318,
        "start_time": "2022-05-02T11:09:02.216Z"
      },
      {
        "duration": 9,
        "start_time": "2022-05-02T11:09:02.535Z"
      },
      {
        "duration": 352,
        "start_time": "2022-05-02T11:09:02.546Z"
      },
      {
        "duration": 13,
        "start_time": "2022-05-02T11:09:02.899Z"
      },
      {
        "duration": 417,
        "start_time": "2022-05-02T11:09:02.913Z"
      },
      {
        "duration": 11,
        "start_time": "2022-05-02T11:09:03.332Z"
      },
      {
        "duration": 332,
        "start_time": "2022-05-02T11:09:03.345Z"
      },
      {
        "duration": 5,
        "start_time": "2022-05-02T11:09:03.679Z"
      },
      {
        "duration": 6,
        "start_time": "2022-05-02T11:09:03.686Z"
      },
      {
        "duration": 5,
        "start_time": "2022-05-02T11:09:03.708Z"
      },
      {
        "duration": 6,
        "start_time": "2022-05-02T11:09:03.715Z"
      },
      {
        "duration": 7,
        "start_time": "2022-05-02T11:09:03.723Z"
      },
      {
        "duration": 16,
        "start_time": "2022-05-02T11:09:03.732Z"
      },
      {
        "duration": 8,
        "start_time": "2022-05-02T11:09:03.750Z"
      },
      {
        "duration": 329,
        "start_time": "2022-05-02T11:09:03.760Z"
      },
      {
        "duration": 5,
        "start_time": "2022-05-02T11:09:04.091Z"
      },
      {
        "duration": 12,
        "start_time": "2022-05-02T11:09:04.098Z"
      },
      {
        "duration": 10,
        "start_time": "2022-05-02T11:09:04.111Z"
      },
      {
        "duration": 5,
        "start_time": "2022-05-02T11:09:04.123Z"
      },
      {
        "duration": 5,
        "start_time": "2022-05-02T11:09:04.130Z"
      },
      {
        "duration": 11,
        "start_time": "2022-05-02T11:09:04.137Z"
      },
      {
        "duration": 14,
        "start_time": "2022-05-02T11:09:04.150Z"
      },
      {
        "duration": 22,
        "start_time": "2022-05-02T11:27:12.733Z"
      },
      {
        "duration": 13,
        "start_time": "2022-05-02T11:28:39.274Z"
      },
      {
        "duration": 131,
        "start_time": "2022-05-02T11:29:01.277Z"
      },
      {
        "duration": 14,
        "start_time": "2022-05-02T11:29:32.081Z"
      },
      {
        "duration": 69,
        "start_time": "2022-05-02T11:32:21.400Z"
      },
      {
        "duration": 61,
        "start_time": "2022-05-02T11:32:36.408Z"
      },
      {
        "duration": 71,
        "start_time": "2022-05-02T14:34:55.929Z"
      },
      {
        "duration": 1179,
        "start_time": "2022-05-02T14:35:09.646Z"
      },
      {
        "duration": 4,
        "start_time": "2022-05-02T14:35:10.828Z"
      },
      {
        "duration": 55,
        "start_time": "2022-05-02T14:35:10.834Z"
      },
      {
        "duration": 47,
        "start_time": "2022-05-02T14:35:10.892Z"
      },
      {
        "duration": 22,
        "start_time": "2022-05-02T14:35:10.942Z"
      },
      {
        "duration": 13,
        "start_time": "2022-05-02T14:35:10.966Z"
      },
      {
        "duration": 49,
        "start_time": "2022-05-02T14:35:10.981Z"
      },
      {
        "duration": 41,
        "start_time": "2022-05-02T14:35:11.033Z"
      },
      {
        "duration": 6,
        "start_time": "2022-05-02T14:35:11.076Z"
      },
      {
        "duration": 9,
        "start_time": "2022-05-02T14:35:11.086Z"
      },
      {
        "duration": 27,
        "start_time": "2022-05-02T14:35:11.097Z"
      },
      {
        "duration": 4,
        "start_time": "2022-05-02T14:35:11.126Z"
      },
      {
        "duration": 10,
        "start_time": "2022-05-02T14:35:11.132Z"
      },
      {
        "duration": 26,
        "start_time": "2022-05-02T14:35:11.144Z"
      },
      {
        "duration": 6,
        "start_time": "2022-05-02T14:35:11.172Z"
      },
      {
        "duration": 45,
        "start_time": "2022-05-02T14:35:11.181Z"
      },
      {
        "duration": 7,
        "start_time": "2022-05-02T14:35:11.228Z"
      },
      {
        "duration": 11,
        "start_time": "2022-05-02T14:35:11.237Z"
      },
      {
        "duration": 13,
        "start_time": "2022-05-02T14:35:11.250Z"
      },
      {
        "duration": 13,
        "start_time": "2022-05-02T14:35:11.265Z"
      },
      {
        "duration": 7,
        "start_time": "2022-05-02T14:35:11.280Z"
      },
      {
        "duration": 7,
        "start_time": "2022-05-02T14:35:11.325Z"
      },
      {
        "duration": 9,
        "start_time": "2022-05-02T14:35:11.334Z"
      },
      {
        "duration": 10,
        "start_time": "2022-05-02T14:35:11.345Z"
      },
      {
        "duration": 15,
        "start_time": "2022-05-02T14:35:11.357Z"
      },
      {
        "duration": 10,
        "start_time": "2022-05-02T14:35:11.374Z"
      },
      {
        "duration": 603,
        "start_time": "2022-05-02T14:35:11.386Z"
      },
      {
        "duration": 7,
        "start_time": "2022-05-02T14:35:11.995Z"
      },
      {
        "duration": 48,
        "start_time": "2022-05-02T14:35:12.004Z"
      },
      {
        "duration": 29,
        "start_time": "2022-05-02T14:35:12.054Z"
      },
      {
        "duration": 7,
        "start_time": "2022-05-02T14:35:12.086Z"
      },
      {
        "duration": 44,
        "start_time": "2022-05-02T14:35:12.096Z"
      },
      {
        "duration": 38,
        "start_time": "2022-05-02T14:35:12.142Z"
      },
      {
        "duration": 454,
        "start_time": "2022-05-02T14:35:12.183Z"
      },
      {
        "duration": 3,
        "start_time": "2022-05-02T14:35:12.640Z"
      },
      {
        "duration": 46,
        "start_time": "2022-05-02T14:35:12.645Z"
      },
      {
        "duration": 26,
        "start_time": "2022-05-02T14:35:12.694Z"
      },
      {
        "duration": 13,
        "start_time": "2022-05-02T14:35:12.724Z"
      },
      {
        "duration": 8,
        "start_time": "2022-05-02T14:35:12.740Z"
      },
      {
        "duration": 28,
        "start_time": "2022-05-02T14:35:12.750Z"
      },
      {
        "duration": 407,
        "start_time": "2022-05-02T14:35:12.781Z"
      },
      {
        "duration": 8,
        "start_time": "2022-05-02T14:35:13.190Z"
      },
      {
        "duration": 569,
        "start_time": "2022-05-02T14:35:13.201Z"
      },
      {
        "duration": 7,
        "start_time": "2022-05-02T14:35:13.772Z"
      },
      {
        "duration": 376,
        "start_time": "2022-05-02T14:35:13.782Z"
      },
      {
        "duration": 13,
        "start_time": "2022-05-02T14:35:14.160Z"
      },
      {
        "duration": 573,
        "start_time": "2022-05-02T14:35:14.175Z"
      },
      {
        "duration": 327,
        "start_time": "2022-05-02T14:35:14.751Z"
      },
      {
        "duration": 1117,
        "start_time": "2022-05-02T14:35:15.080Z"
      },
      {
        "duration": 1678,
        "start_time": "2022-05-02T14:35:16.199Z"
      },
      {
        "duration": 12,
        "start_time": "2022-05-02T14:35:17.880Z"
      },
      {
        "duration": 42,
        "start_time": "2022-05-02T14:35:17.895Z"
      },
      {
        "duration": 20,
        "start_time": "2022-05-02T14:35:17.940Z"
      },
      {
        "duration": 309,
        "start_time": "2022-05-02T14:35:17.962Z"
      },
      {
        "duration": 9,
        "start_time": "2022-05-02T14:35:18.273Z"
      },
      {
        "duration": 490,
        "start_time": "2022-05-02T14:35:18.285Z"
      },
      {
        "duration": 12,
        "start_time": "2022-05-02T14:35:18.777Z"
      },
      {
        "duration": 555,
        "start_time": "2022-05-02T14:35:18.791Z"
      },
      {
        "duration": 10,
        "start_time": "2022-05-02T14:35:19.349Z"
      },
      {
        "duration": 635,
        "start_time": "2022-05-02T14:35:19.361Z"
      },
      {
        "duration": 30,
        "start_time": "2022-05-02T14:35:19.998Z"
      },
      {
        "duration": 683,
        "start_time": "2022-05-02T14:35:20.030Z"
      },
      {
        "duration": 13,
        "start_time": "2022-05-02T14:35:20.716Z"
      },
      {
        "duration": 11,
        "start_time": "2022-05-02T14:35:20.731Z"
      },
      {
        "duration": 18,
        "start_time": "2022-05-02T14:35:20.745Z"
      },
      {
        "duration": 11,
        "start_time": "2022-05-02T14:35:20.766Z"
      },
      {
        "duration": 10,
        "start_time": "2022-05-02T14:35:20.780Z"
      },
      {
        "duration": 39,
        "start_time": "2022-05-02T14:35:20.792Z"
      },
      {
        "duration": 17,
        "start_time": "2022-05-02T14:35:20.834Z"
      },
      {
        "duration": 479,
        "start_time": "2022-05-02T14:35:20.853Z"
      },
      {
        "duration": 7,
        "start_time": "2022-05-02T14:35:21.334Z"
      },
      {
        "duration": 7,
        "start_time": "2022-05-02T14:35:21.343Z"
      },
      {
        "duration": 10,
        "start_time": "2022-05-02T14:35:21.353Z"
      },
      {
        "duration": 15,
        "start_time": "2022-05-02T14:35:21.365Z"
      },
      {
        "duration": 46,
        "start_time": "2022-05-02T14:35:21.382Z"
      },
      {
        "duration": 15,
        "start_time": "2022-05-02T14:35:21.431Z"
      },
      {
        "duration": 14,
        "start_time": "2022-05-02T14:35:21.449Z"
      },
      {
        "duration": 69,
        "start_time": "2022-05-02T14:36:19.469Z"
      },
      {
        "duration": 29,
        "start_time": "2022-05-02T14:36:35.083Z"
      },
      {
        "duration": 25,
        "start_time": "2022-05-02T14:39:02.264Z"
      },
      {
        "duration": 20,
        "start_time": "2022-05-02T14:39:22.042Z"
      },
      {
        "duration": 132,
        "start_time": "2022-05-02T14:40:01.705Z"
      },
      {
        "duration": 20,
        "start_time": "2022-05-02T14:40:49.328Z"
      },
      {
        "duration": 32,
        "start_time": "2022-05-02T14:42:32.046Z"
      },
      {
        "duration": 9,
        "start_time": "2022-05-02T14:42:47.746Z"
      },
      {
        "duration": 178,
        "start_time": "2022-05-02T14:43:03.687Z"
      },
      {
        "duration": 6,
        "start_time": "2022-05-02T14:43:15.561Z"
      },
      {
        "duration": 102,
        "start_time": "2022-05-02T14:44:03.796Z"
      },
      {
        "duration": 23,
        "start_time": "2022-05-02T14:44:10.364Z"
      },
      {
        "duration": 11,
        "start_time": "2022-05-02T14:44:21.429Z"
      },
      {
        "duration": 25,
        "start_time": "2022-05-02T14:46:38.140Z"
      },
      {
        "duration": 7,
        "start_time": "2022-05-02T14:46:51.865Z"
      },
      {
        "duration": 115,
        "start_time": "2022-05-02T14:49:33.247Z"
      },
      {
        "duration": 983,
        "start_time": "2022-05-02T14:50:01.067Z"
      },
      {
        "duration": 4,
        "start_time": "2022-05-02T14:50:02.054Z"
      },
      {
        "duration": 83,
        "start_time": "2022-05-02T14:50:02.060Z"
      },
      {
        "duration": 33,
        "start_time": "2022-05-02T14:50:02.147Z"
      },
      {
        "duration": 42,
        "start_time": "2022-05-02T14:50:02.182Z"
      },
      {
        "duration": 42,
        "start_time": "2022-05-02T14:50:02.226Z"
      },
      {
        "duration": 41,
        "start_time": "2022-05-02T14:50:02.270Z"
      },
      {
        "duration": 36,
        "start_time": "2022-05-02T14:50:02.313Z"
      },
      {
        "duration": 13,
        "start_time": "2022-05-02T14:50:02.352Z"
      },
      {
        "duration": 33,
        "start_time": "2022-05-02T14:50:02.369Z"
      },
      {
        "duration": 20,
        "start_time": "2022-05-02T14:50:02.405Z"
      },
      {
        "duration": 11,
        "start_time": "2022-05-02T14:50:02.428Z"
      },
      {
        "duration": 10,
        "start_time": "2022-05-02T14:50:02.441Z"
      },
      {
        "duration": 42,
        "start_time": "2022-05-02T14:50:02.454Z"
      },
      {
        "duration": 47,
        "start_time": "2022-05-02T14:50:02.499Z"
      },
      {
        "duration": 43,
        "start_time": "2022-05-02T14:50:02.548Z"
      },
      {
        "duration": 64,
        "start_time": "2022-05-02T14:50:02.593Z"
      },
      {
        "duration": 40,
        "start_time": "2022-05-02T14:50:02.660Z"
      },
      {
        "duration": 41,
        "start_time": "2022-05-02T14:50:02.703Z"
      },
      {
        "duration": 36,
        "start_time": "2022-05-02T14:50:02.747Z"
      },
      {
        "duration": 13,
        "start_time": "2022-05-02T14:50:02.786Z"
      },
      {
        "duration": 26,
        "start_time": "2022-05-02T14:50:02.802Z"
      },
      {
        "duration": 34,
        "start_time": "2022-05-02T14:50:02.832Z"
      },
      {
        "duration": 19,
        "start_time": "2022-05-02T14:50:02.869Z"
      },
      {
        "duration": 33,
        "start_time": "2022-05-02T14:50:02.891Z"
      },
      {
        "duration": 29,
        "start_time": "2022-05-02T14:50:02.927Z"
      },
      {
        "duration": 1052,
        "start_time": "2022-05-02T14:50:02.960Z"
      },
      {
        "duration": 8,
        "start_time": "2022-05-02T14:50:04.021Z"
      },
      {
        "duration": 63,
        "start_time": "2022-05-02T14:50:04.032Z"
      },
      {
        "duration": 38,
        "start_time": "2022-05-02T14:50:04.098Z"
      },
      {
        "duration": 24,
        "start_time": "2022-05-02T14:50:04.138Z"
      },
      {
        "duration": 32,
        "start_time": "2022-05-02T14:50:04.165Z"
      },
      {
        "duration": 69,
        "start_time": "2022-05-02T14:50:04.199Z"
      },
      {
        "duration": 404,
        "start_time": "2022-05-02T14:50:04.270Z"
      },
      {
        "duration": 3,
        "start_time": "2022-05-02T14:50:04.677Z"
      },
      {
        "duration": 29,
        "start_time": "2022-05-02T14:50:04.683Z"
      },
      {
        "duration": 35,
        "start_time": "2022-05-02T14:50:04.724Z"
      },
      {
        "duration": 16,
        "start_time": "2022-05-02T14:50:04.762Z"
      },
      {
        "duration": 9,
        "start_time": "2022-05-02T14:50:04.782Z"
      },
      {
        "duration": 23,
        "start_time": "2022-05-02T14:50:04.825Z"
      },
      {
        "duration": 665,
        "start_time": "2022-05-02T14:50:04.851Z"
      },
      {
        "duration": 11,
        "start_time": "2022-05-02T14:50:05.518Z"
      },
      {
        "duration": 618,
        "start_time": "2022-05-02T14:50:05.532Z"
      },
      {
        "duration": 9,
        "start_time": "2022-05-02T14:50:06.153Z"
      },
      {
        "duration": 391,
        "start_time": "2022-05-02T14:50:06.165Z"
      },
      {
        "duration": 13,
        "start_time": "2022-05-02T14:50:06.558Z"
      },
      {
        "duration": 618,
        "start_time": "2022-05-02T14:50:06.574Z"
      },
      {
        "duration": 432,
        "start_time": "2022-05-02T14:50:07.195Z"
      },
      {
        "duration": 1355,
        "start_time": "2022-05-02T14:50:07.630Z"
      },
      {
        "duration": 3,
        "start_time": "2022-05-02T14:50:08.988Z"
      },
      {
        "duration": 1538,
        "start_time": "2022-05-02T14:50:08.994Z"
      },
      {
        "duration": 15,
        "start_time": "2022-05-02T14:50:10.534Z"
      },
      {
        "duration": 23,
        "start_time": "2022-05-02T14:50:10.552Z"
      },
      {
        "duration": 9,
        "start_time": "2022-05-02T14:50:10.577Z"
      },
      {
        "duration": 43,
        "start_time": "2022-05-02T14:50:10.588Z"
      },
      {
        "duration": 317,
        "start_time": "2022-05-02T14:50:10.634Z"
      },
      {
        "duration": 9,
        "start_time": "2022-05-02T14:50:10.954Z"
      },
      {
        "duration": 498,
        "start_time": "2022-05-02T14:50:10.965Z"
      },
      {
        "duration": 12,
        "start_time": "2022-05-02T14:50:11.466Z"
      },
      {
        "duration": 546,
        "start_time": "2022-05-02T14:50:11.480Z"
      },
      {
        "duration": 9,
        "start_time": "2022-05-02T14:50:12.029Z"
      },
      {
        "duration": 824,
        "start_time": "2022-05-02T14:50:12.041Z"
      },
      {
        "duration": 16,
        "start_time": "2022-05-02T14:50:12.868Z"
      },
      {
        "duration": 590,
        "start_time": "2022-05-02T14:50:12.886Z"
      },
      {
        "duration": 6,
        "start_time": "2022-05-02T14:50:13.478Z"
      },
      {
        "duration": 9,
        "start_time": "2022-05-02T14:50:13.487Z"
      },
      {
        "duration": 32,
        "start_time": "2022-05-02T14:50:13.498Z"
      },
      {
        "duration": 17,
        "start_time": "2022-05-02T14:50:13.533Z"
      },
      {
        "duration": 9,
        "start_time": "2022-05-02T14:50:13.552Z"
      },
      {
        "duration": 13,
        "start_time": "2022-05-02T14:50:13.564Z"
      },
      {
        "duration": 15,
        "start_time": "2022-05-02T14:50:13.580Z"
      },
      {
        "duration": 706,
        "start_time": "2022-05-02T14:50:13.598Z"
      },
      {
        "duration": 17,
        "start_time": "2022-05-02T14:50:14.307Z"
      },
      {
        "duration": 8,
        "start_time": "2022-05-02T14:50:14.327Z"
      },
      {
        "duration": 14,
        "start_time": "2022-05-02T14:50:14.338Z"
      },
      {
        "duration": 9,
        "start_time": "2022-05-02T14:50:14.354Z"
      },
      {
        "duration": 8,
        "start_time": "2022-05-02T14:50:14.366Z"
      },
      {
        "duration": 56,
        "start_time": "2022-05-02T14:50:14.378Z"
      },
      {
        "duration": 14,
        "start_time": "2022-05-02T14:50:14.436Z"
      },
      {
        "duration": 8,
        "start_time": "2022-05-02T14:50:39.154Z"
      },
      {
        "duration": 8,
        "start_time": "2022-05-02T14:51:19.025Z"
      },
      {
        "duration": 28,
        "start_time": "2022-05-02T14:51:26.046Z"
      },
      {
        "duration": 14,
        "start_time": "2022-05-02T14:52:13.501Z"
      },
      {
        "duration": 12,
        "start_time": "2022-05-02T14:52:24.622Z"
      },
      {
        "duration": 2104,
        "start_time": "2022-05-02T14:52:55.926Z"
      },
      {
        "duration": 13,
        "start_time": "2022-05-02T14:53:03.343Z"
      },
      {
        "duration": 14,
        "start_time": "2022-05-02T14:53:17.542Z"
      },
      {
        "duration": 19,
        "start_time": "2022-05-02T14:56:08.990Z"
      },
      {
        "duration": 11,
        "start_time": "2022-05-02T15:03:44.369Z"
      },
      {
        "duration": 14,
        "start_time": "2022-05-02T15:04:27.992Z"
      },
      {
        "duration": 16,
        "start_time": "2022-05-02T15:04:55.309Z"
      },
      {
        "duration": 3919,
        "start_time": "2022-05-02T15:17:42.511Z"
      },
      {
        "duration": 1152,
        "start_time": "2022-05-02T15:18:05.963Z"
      },
      {
        "duration": 3,
        "start_time": "2022-05-02T15:18:07.124Z"
      },
      {
        "duration": 91,
        "start_time": "2022-05-02T15:18:07.130Z"
      },
      {
        "duration": 55,
        "start_time": "2022-05-02T15:18:07.225Z"
      },
      {
        "duration": 31,
        "start_time": "2022-05-02T15:18:07.282Z"
      },
      {
        "duration": 13,
        "start_time": "2022-05-02T15:18:07.326Z"
      },
      {
        "duration": 23,
        "start_time": "2022-05-02T15:18:07.341Z"
      },
      {
        "duration": 36,
        "start_time": "2022-05-02T15:18:07.366Z"
      },
      {
        "duration": 6,
        "start_time": "2022-05-02T15:18:07.424Z"
      },
      {
        "duration": 22,
        "start_time": "2022-05-02T15:18:07.436Z"
      },
      {
        "duration": 11,
        "start_time": "2022-05-02T15:18:07.460Z"
      },
      {
        "duration": 31,
        "start_time": "2022-05-02T15:18:07.474Z"
      },
      {
        "duration": 11,
        "start_time": "2022-05-02T15:18:07.507Z"
      },
      {
        "duration": 31,
        "start_time": "2022-05-02T15:18:07.521Z"
      },
      {
        "duration": 5,
        "start_time": "2022-05-02T15:18:07.555Z"
      },
      {
        "duration": 26,
        "start_time": "2022-05-02T15:18:07.562Z"
      },
      {
        "duration": 10,
        "start_time": "2022-05-02T15:18:07.592Z"
      },
      {
        "duration": 22,
        "start_time": "2022-05-02T15:18:07.605Z"
      },
      {
        "duration": 10,
        "start_time": "2022-05-02T15:18:07.629Z"
      },
      {
        "duration": 13,
        "start_time": "2022-05-02T15:18:07.642Z"
      },
      {
        "duration": 9,
        "start_time": "2022-05-02T15:18:07.658Z"
      },
      {
        "duration": 12,
        "start_time": "2022-05-02T15:18:07.669Z"
      },
      {
        "duration": 14,
        "start_time": "2022-05-02T15:18:07.723Z"
      },
      {
        "duration": 12,
        "start_time": "2022-05-02T15:18:07.740Z"
      },
      {
        "duration": 24,
        "start_time": "2022-05-02T15:18:07.755Z"
      },
      {
        "duration": 11,
        "start_time": "2022-05-02T15:18:07.782Z"
      },
      {
        "duration": 748,
        "start_time": "2022-05-02T15:18:07.824Z"
      },
      {
        "duration": 8,
        "start_time": "2022-05-02T15:18:08.581Z"
      },
      {
        "duration": 65,
        "start_time": "2022-05-02T15:18:08.592Z"
      },
      {
        "duration": 30,
        "start_time": "2022-05-02T15:18:08.660Z"
      },
      {
        "duration": 31,
        "start_time": "2022-05-02T15:18:08.693Z"
      },
      {
        "duration": 13,
        "start_time": "2022-05-02T15:18:08.727Z"
      },
      {
        "duration": 38,
        "start_time": "2022-05-02T15:18:08.742Z"
      },
      {
        "duration": 617,
        "start_time": "2022-05-02T15:18:08.782Z"
      },
      {
        "duration": 4,
        "start_time": "2022-05-02T15:18:09.402Z"
      },
      {
        "duration": 34,
        "start_time": "2022-05-02T15:18:09.409Z"
      },
      {
        "duration": 28,
        "start_time": "2022-05-02T15:18:09.446Z"
      },
      {
        "duration": 29,
        "start_time": "2022-05-02T15:18:09.476Z"
      },
      {
        "duration": 9,
        "start_time": "2022-05-02T15:18:09.524Z"
      },
      {
        "duration": 24,
        "start_time": "2022-05-02T15:18:09.536Z"
      },
      {
        "duration": 513,
        "start_time": "2022-05-02T15:18:09.562Z"
      },
      {
        "duration": 11,
        "start_time": "2022-05-02T15:18:10.077Z"
      },
      {
        "duration": 698,
        "start_time": "2022-05-02T15:18:10.091Z"
      },
      {
        "duration": 13,
        "start_time": "2022-05-02T15:18:10.792Z"
      },
      {
        "duration": 490,
        "start_time": "2022-05-02T15:18:10.807Z"
      },
      {
        "duration": 26,
        "start_time": "2022-05-02T15:18:11.301Z"
      },
      {
        "duration": 815,
        "start_time": "2022-05-02T15:18:11.330Z"
      },
      {
        "duration": 453,
        "start_time": "2022-05-02T15:18:12.148Z"
      },
      {
        "duration": 1060,
        "start_time": "2022-05-02T15:18:12.604Z"
      },
      {
        "duration": 14,
        "start_time": "2022-05-02T15:18:13.666Z"
      },
      {
        "duration": 1353,
        "start_time": "2022-05-02T15:18:13.682Z"
      },
      {
        "duration": 19,
        "start_time": "2022-05-02T15:18:15.039Z"
      },
      {
        "duration": 36,
        "start_time": "2022-05-02T15:18:15.061Z"
      },
      {
        "duration": 29,
        "start_time": "2022-05-02T15:18:15.100Z"
      },
      {
        "duration": 54,
        "start_time": "2022-05-02T15:18:15.131Z"
      },
      {
        "duration": 418,
        "start_time": "2022-05-02T15:18:15.188Z"
      },
      {
        "duration": 16,
        "start_time": "2022-05-02T15:18:15.609Z"
      },
      {
        "duration": 492,
        "start_time": "2022-05-02T15:18:15.628Z"
      },
      {
        "duration": 12,
        "start_time": "2022-05-02T15:18:16.124Z"
      },
      {
        "duration": 533,
        "start_time": "2022-05-02T15:18:16.139Z"
      },
      {
        "duration": 12,
        "start_time": "2022-05-02T15:18:16.675Z"
      },
      {
        "duration": 611,
        "start_time": "2022-05-02T15:18:16.689Z"
      },
      {
        "duration": 33,
        "start_time": "2022-05-02T15:18:17.302Z"
      },
      {
        "duration": 762,
        "start_time": "2022-05-02T15:18:17.338Z"
      },
      {
        "duration": 7,
        "start_time": "2022-05-02T15:18:18.103Z"
      },
      {
        "duration": 7,
        "start_time": "2022-05-02T15:18:18.125Z"
      },
      {
        "duration": 16,
        "start_time": "2022-05-02T15:18:18.134Z"
      },
      {
        "duration": 23,
        "start_time": "2022-05-02T15:18:18.153Z"
      },
      {
        "duration": 23,
        "start_time": "2022-05-02T15:18:18.179Z"
      },
      {
        "duration": 26,
        "start_time": "2022-05-02T15:18:18.204Z"
      },
      {
        "duration": 29,
        "start_time": "2022-05-02T15:18:18.233Z"
      },
      {
        "duration": 637,
        "start_time": "2022-05-02T15:18:18.265Z"
      },
      {
        "duration": 7,
        "start_time": "2022-05-02T15:18:18.904Z"
      },
      {
        "duration": 8,
        "start_time": "2022-05-02T15:18:18.925Z"
      },
      {
        "duration": 24,
        "start_time": "2022-05-02T15:18:18.935Z"
      },
      {
        "duration": 13,
        "start_time": "2022-05-02T15:18:18.961Z"
      },
      {
        "duration": 9,
        "start_time": "2022-05-02T15:18:18.977Z"
      },
      {
        "duration": 43,
        "start_time": "2022-05-02T15:18:18.989Z"
      },
      {
        "duration": 27,
        "start_time": "2022-05-02T15:18:19.034Z"
      }
    ],
    "colab": {
      "collapsed_sections": [],
      "provenance": [],
      "toc_visible": true
    },
    "kernelspec": {
      "display_name": "Python 3 (ipykernel)",
      "language": "python",
      "name": "python3"
    },
    "language_info": {
      "codemirror_mode": {
        "name": "ipython",
        "version": 3
      },
      "file_extension": ".py",
      "mimetype": "text/x-python",
      "name": "python",
      "nbconvert_exporter": "python",
      "pygments_lexer": "ipython3",
      "version": "3.9.5"
    },
    "toc": {
      "base_numbering": 1,
      "nav_menu": {},
      "number_sections": true,
      "sideBar": true,
      "skip_h1_title": true,
      "title_cell": "Table of Contents",
      "title_sidebar": "Contents",
      "toc_cell": false,
      "toc_position": {
        "height": "calc(100% - 180px)",
        "left": "10px",
        "top": "150px",
        "width": "187.2px"
      },
      "toc_section_display": true,
      "toc_window_display": true
    }
  },
  "nbformat": 4,
  "nbformat_minor": 0
}